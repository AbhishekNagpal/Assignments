{
 "cells": [
  {
   "cell_type": "code",
   "execution_count": null,
   "metadata": {},
   "outputs": [],
   "source": [
    "Q1) Write a Python Program to Find the Factorial of a Number?"
   ]
  },
  {
   "cell_type": "code",
   "execution_count": 1,
   "metadata": {},
   "outputs": [
    {
     "name": "stdout",
     "output_type": "stream",
     "text": [
      "Enter the Number: 5\n",
      "Factorial is 120\n"
     ]
    }
   ],
   "source": [
    "def fact(n):\n",
    "    f = 1\n",
    "    for i in range(1,n+1):\n",
    "        f *= i\n",
    "    return f\n",
    "n = int(input(\"Enter the Number: \"))\n",
    "print(\"Factorial is\",fact(n))"
   ]
  },
  {
   "cell_type": "code",
   "execution_count": null,
   "metadata": {},
   "outputs": [],
   "source": [
    "Q2) Write a Python Program to Display the multiplication Table?"
   ]
  },
  {
   "cell_type": "code",
   "execution_count": 2,
   "metadata": {},
   "outputs": [
    {
     "name": "stdout",
     "output_type": "stream",
     "text": [
      "Enter the Number: 7\n",
      "7 * 1 = 7\n",
      "7 * 2 = 14\n",
      "7 * 3 = 21\n",
      "7 * 4 = 28\n",
      "7 * 5 = 35\n",
      "7 * 6 = 42\n",
      "7 * 7 = 49\n",
      "7 * 8 = 56\n",
      "7 * 9 = 63\n",
      "7 * 10 = 70\n"
     ]
    }
   ],
   "source": [
    "def display(n):\n",
    "    for i in range(1,11):\n",
    "        print(f\"{n} * {i} = {n*i}\")\n",
    "n = int(input(\"Enter the Number: \"))\n",
    "display(n)"
   ]
  },
  {
   "cell_type": "code",
   "execution_count": null,
   "metadata": {},
   "outputs": [],
   "source": [
    "Q3) Write a Python Program to Print the Fibonacci sequence?"
   ]
  },
  {
   "cell_type": "code",
   "execution_count": 3,
   "metadata": {},
   "outputs": [
    {
     "name": "stdout",
     "output_type": "stream",
     "text": [
      "Enter the number: 20\n",
      "0 1 1 2 3 5 8 13 21 34 55 89 144 233 377 610 987 1597 2584 4181 "
     ]
    }
   ],
   "source": [
    "def fib(n):\n",
    "    a = 0\n",
    "    b = 1\n",
    "    if n<0:\n",
    "        print(\"You have entered the wrong number\")\n",
    "    elif n==0:\n",
    "        print(a,end = \" \")\n",
    "    elif n == 1:\n",
    "        print(a,b,end = \" \")\n",
    "    else:\n",
    "        print(a,b,end = \" \")\n",
    "        for i in range(2,n):\n",
    "            a , b = b , a+b\n",
    "            print(b,end = \" \")\n",
    "n = int(input(\"Enter the number: \"))\n",
    "fib(n)"
   ]
  },
  {
   "cell_type": "code",
   "execution_count": null,
   "metadata": {},
   "outputs": [],
   "source": [
    "Q4) Write a Python Program to Check Armstrong Number?"
   ]
  },
  {
   "cell_type": "code",
   "execution_count": 4,
   "metadata": {},
   "outputs": [
    {
     "name": "stdout",
     "output_type": "stream",
     "text": [
      "Enter the number: 153\n",
      "True\n"
     ]
    }
   ],
   "source": [
    "def arm(n):\n",
    "    c = 0\n",
    "    temp = n\n",
    "    temp_2 = n\n",
    "    while temp != 0:\n",
    "        c += 1\n",
    "        temp //= 10\n",
    "    s = 0\n",
    "    while temp_2 != 0:\n",
    "        s = s + (temp_2%10)**c\n",
    "        temp_2 //= 10\n",
    "    if (s == n):\n",
    "        return True \n",
    "    else:\n",
    "        return False\n",
    "    \n",
    "n = int(input(\"Enter the number: \"))\n",
    "print(arm(n))"
   ]
  },
  {
   "cell_type": "code",
   "execution_count": null,
   "metadata": {},
   "outputs": [],
   "source": [
    "Q5) Write a Python Program to Find Armstrong Number in an Interval?"
   ]
  },
  {
   "cell_type": "code",
   "execution_count": 5,
   "metadata": {},
   "outputs": [
    {
     "name": "stdout",
     "output_type": "stream",
     "text": [
      "Enter the lower range: 1\n",
      "Enter the upper range: 2000\n",
      "1\n",
      "2\n",
      "3\n",
      "4\n",
      "5\n",
      "6\n",
      "7\n",
      "8\n",
      "9\n",
      "153\n",
      "370\n",
      "371\n",
      "407\n",
      "1634\n"
     ]
    }
   ],
   "source": [
    "def arm_range(a,b):\n",
    "    for i in range(a,b+1):\n",
    "        c = 0\n",
    "        temp = i\n",
    "        temp_2 = i\n",
    "        while temp != 0:\n",
    "            c += 1\n",
    "            temp //= 10\n",
    "        s = 0\n",
    "        while temp_2 != 0:\n",
    "            s = s + (temp_2%10)**c\n",
    "            temp_2 //= 10\n",
    "        if (s == i):\n",
    "            print(s)\n",
    "        else:\n",
    "            pass\n",
    "        \n",
    "a = int(input(\"Enter the lower range: \"))\n",
    "b = int(input(\"Enter the upper range: \"))\n",
    "arm_range(a,b)"
   ]
  },
  {
   "cell_type": "code",
   "execution_count": null,
   "metadata": {},
   "outputs": [],
   "source": [
    "Q6) Write a Python Program to Find the Sum of Natural Numbers?"
   ]
  },
  {
   "cell_type": "code",
   "execution_count": 6,
   "metadata": {},
   "outputs": [
    {
     "name": "stdout",
     "output_type": "stream",
     "text": [
      "Enter the Number: 10\n",
      "Sum of 10 Natural Numbers is 55\n"
     ]
    }
   ],
   "source": [
    "def sum_natural(n):\n",
    "    s = 0\n",
    "    for i in range(1,n+1):\n",
    "        s += i\n",
    "    return s\n",
    "n = int(input(\"Enter the Number: \"))\n",
    "print(f\"Sum of {n} Natural Numbers is {sum_natural(n)}\")"
   ]
  },
  {
   "cell_type": "code",
   "execution_count": null,
   "metadata": {},
   "outputs": [],
   "source": []
  }
 ],
 "metadata": {
  "kernelspec": {
   "display_name": "Python 3",
   "language": "python",
   "name": "python3"
  },
  "language_info": {
   "codemirror_mode": {
    "name": "ipython",
    "version": 3
   },
   "file_extension": ".py",
   "mimetype": "text/x-python",
   "name": "python",
   "nbconvert_exporter": "python",
   "pygments_lexer": "ipython3",
   "version": "3.8.5"
  }
 },
 "nbformat": 4,
 "nbformat_minor": 4
}
