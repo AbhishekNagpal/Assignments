{
 "cells": [
  {
   "cell_type": "code",
   "execution_count": null,
   "metadata": {},
   "outputs": [],
   "source": [
    "Q1) Write a Python program to check if the given number is a Disarium Number?"
   ]
  },
  {
   "cell_type": "code",
   "execution_count": 2,
   "metadata": {},
   "outputs": [
    {
     "name": "stdout",
     "output_type": "stream",
     "text": [
      "Enter the number: 135\n",
      "True\n"
     ]
    }
   ],
   "source": [
    "def Disarium(n):\n",
    "    c = 0\n",
    "    temp = n\n",
    "    temp_2 = n\n",
    "    while temp != 0:\n",
    "        c += 1\n",
    "        temp //= 10\n",
    "    s = 0\n",
    "    while temp_2 != 0:\n",
    "        s = s + (temp_2%10)**c\n",
    "        c -= 1\n",
    "        temp_2 //= 10\n",
    "    if (s == 0):\n",
    "        return False\n",
    "    elif s == n:\n",
    "        return True\n",
    "    else:\n",
    "        return False\n",
    "    \n",
    "n = int(input(\"Enter the number: \"))\n",
    "print(Disarium(n))"
   ]
  },
  {
   "cell_type": "code",
   "execution_count": null,
   "metadata": {},
   "outputs": [],
   "source": [
    "Q2) Write a Python program to print all disarium numbers between 1 to 100?"
   ]
  },
  {
   "cell_type": "code",
   "execution_count": 3,
   "metadata": {},
   "outputs": [
    {
     "name": "stdout",
     "output_type": "stream",
     "text": [
      "Enter the lower range: 1\n",
      "Enter the upper range: 100\n",
      "1\n",
      "2\n",
      "3\n",
      "4\n",
      "5\n",
      "6\n",
      "7\n",
      "8\n",
      "9\n",
      "89\n"
     ]
    }
   ],
   "source": [
    "def disarium_range(a,b):\n",
    "    for i in range(a,b+1):\n",
    "        c = 0\n",
    "        temp = i\n",
    "        temp_2 = i\n",
    "        while temp != 0:\n",
    "            c += 1\n",
    "            temp //= 10\n",
    "        s = 0\n",
    "        while temp_2 != 0:\n",
    "            s = s + (temp_2%10)**c\n",
    "            c -= 1\n",
    "            temp_2 //= 10\n",
    "        if (s == i):\n",
    "            print(s)\n",
    "        else:\n",
    "            pass\n",
    "        \n",
    "a = int(input(\"Enter the lower range: \"))\n",
    "b = int(input(\"Enter the upper range: \"))\n",
    "disarium_range(a,b)"
   ]
  },
  {
   "cell_type": "code",
   "execution_count": null,
   "metadata": {},
   "outputs": [],
   "source": [
    "Q3) Write a Python program to check if the given number is Happy Number?"
   ]
  },
  {
   "cell_type": "code",
   "execution_count": 4,
   "metadata": {},
   "outputs": [
    {
     "name": "stdout",
     "output_type": "stream",
     "text": [
      "Enter the Integer: 18\n",
      "18  is not a happy number\n"
     ]
    }
   ],
   "source": [
    "def happy_number(n):    \n",
    "    r = s = 0       \n",
    "    while(n > 0):    \n",
    "        r = n%10    \n",
    "        s = s + (r*r)    \n",
    "        n = n//10  \n",
    "    return s    \n",
    "\n",
    "        \n",
    "n = int(input(\"Enter the Integer: \")) \n",
    "result = n    \n",
    "     \n",
    "while(result != 1 and result != 4):    \n",
    "    result = happy_number(result)   \n",
    "     \n",
    "    \n",
    "if(result == 1):    \n",
    "    print(n , \" is a happy number\")    \n",
    "elif(result == 4):    \n",
    "    print(n , \" is not a happy number\")  "
   ]
  },
  {
   "cell_type": "code",
   "execution_count": null,
   "metadata": {},
   "outputs": [],
   "source": [
    "Q4) Write a Python program to print all happy numbers between 1 and 100?"
   ]
  },
  {
   "cell_type": "code",
   "execution_count": 5,
   "metadata": {},
   "outputs": [
    {
     "name": "stdout",
     "output_type": "stream",
     "text": [
      "Enter the start point: 1\n",
      "Enter the end point: 100\n",
      "1 7 10 13 19 23 28 31 32 44 49 68 70 79 82 86 91 94 97 100 "
     ]
    }
   ],
   "source": [
    "def happy_number_range(n):    \n",
    "    r = s = 0      \n",
    "    while(n > 0):    \n",
    "        r = n%10    \n",
    "        s = s + (r*r)    \n",
    "        n = n//10    \n",
    "    return s    \n",
    "            \n",
    "a = int(input(\"Enter the start point: \"))\n",
    "b = int(input(\"Enter the end point: \"))\n",
    "for i in range(a,b+1):    \n",
    "    result = i       \n",
    "    while(result != 1 and result != 4):    \n",
    "        result = happy_number_range(result)    \n",
    "        \n",
    "    if(result == 1):    \n",
    "        print(i,end = ' ')    \n",
    "          \n",
    "\n",
    "        "
   ]
  },
  {
   "cell_type": "code",
   "execution_count": null,
   "metadata": {},
   "outputs": [],
   "source": [
    "Q5) Write a Python program to determine whether the given number is a Harshad Number?"
   ]
  },
  {
   "cell_type": "code",
   "execution_count": 6,
   "metadata": {},
   "outputs": [
    {
     "name": "stdout",
     "output_type": "stream",
     "text": [
      "Enter the Number: 12\n",
      "True\n"
     ]
    }
   ],
   "source": [
    "def harshad(n):\n",
    "    s = 0\n",
    "    temp = n\n",
    "    while temp > 0:\n",
    "        s = s + (temp%10)\n",
    "        temp //= 10\n",
    "    if (n % s) == 0:\n",
    "        return True\n",
    "    else:\n",
    "        return False\n",
    "n = int(input(\"Enter the Number: \"))\n",
    "print(harshad(n))"
   ]
  },
  {
   "cell_type": "code",
   "execution_count": null,
   "metadata": {},
   "outputs": [],
   "source": [
    "Q6) Write a Python program to print all pronic numbers between 1 and 100?"
   ]
  },
  {
   "cell_type": "code",
   "execution_count": 8,
   "metadata": {},
   "outputs": [
    {
     "name": "stdout",
     "output_type": "stream",
     "text": [
      "Enter the start point: 1\n",
      "Enter the end point: 100\n",
      "2\n",
      "6\n",
      "12\n",
      "20\n",
      "30\n",
      "42\n",
      "56\n",
      "72\n",
      "90\n"
     ]
    }
   ],
   "source": [
    "def pronic (i) :\n",
    "    flag = False  \n",
    "      \n",
    "    for j in range(1, i+1):    \n",
    "        if((j*(j+1)) == i):  \n",
    "            flag = True  \n",
    "            break  \n",
    "    return flag  \n",
    "    \n",
    "a = int(input(\"Enter the start point: \"))\n",
    "b = int(input(\"Enter the end point: \"))\n",
    "for i in range(a,b+1):\n",
    "    if pronic(i) :\n",
    "        print (i)\n",
    "    "
   ]
  },
  {
   "cell_type": "code",
   "execution_count": null,
   "metadata": {},
   "outputs": [],
   "source": []
  }
 ],
 "metadata": {
  "kernelspec": {
   "display_name": "Python 3",
   "language": "python",
   "name": "python3"
  },
  "language_info": {
   "codemirror_mode": {
    "name": "ipython",
    "version": 3
   },
   "file_extension": ".py",
   "mimetype": "text/x-python",
   "name": "python",
   "nbconvert_exporter": "python",
   "pygments_lexer": "ipython3",
   "version": "3.8.5"
  }
 },
 "nbformat": 4,
 "nbformat_minor": 4
}
