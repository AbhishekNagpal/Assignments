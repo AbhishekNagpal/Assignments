{
 "cells": [
  {
   "cell_type": "code",
   "execution_count": null,
   "metadata": {},
   "outputs": [],
   "source": [
    "Q1). Please write a program using generator to print the numbers which can be divisible by 5 and\n",
    "7 between 0 and n in comma separated form while n is input by console."
   ]
  },
  {
   "cell_type": "code",
   "execution_count": 1,
   "metadata": {},
   "outputs": [
    {
     "name": "stdout",
     "output_type": "stream",
     "text": [
      "0, 35, 70, "
     ]
    }
   ],
   "source": [
    "def num_gen(n):\n",
    "    for i in range(0,n+1):\n",
    "        if i%5==0 and i%7==0:\n",
    "            yield i\n",
    "for j in num_gen(100):\n",
    "    print(j,end=', ')"
   ]
  },
  {
   "cell_type": "code",
   "execution_count": null,
   "metadata": {},
   "outputs": [],
   "source": [
    "Q2). Please write a program using generator to print the even numbers between 0 and n in comma\n",
    "separated form while n is input by console."
   ]
  },
  {
   "cell_type": "code",
   "execution_count": 2,
   "metadata": {},
   "outputs": [
    {
     "name": "stdout",
     "output_type": "stream",
     "text": [
      "0,2,4,6,8,10,"
     ]
    }
   ],
   "source": [
    "def even_gen(n):\n",
    "    for i in range(n+1):\n",
    "        if i%2==0:\n",
    "            yield i\n",
    "for j in even_gen(10):\n",
    "    print(j,end = ',')"
   ]
  },
  {
   "cell_type": "code",
   "execution_count": null,
   "metadata": {},
   "outputs": [],
   "source": [
    "Q3). The Fibonacci Sequence is computed based on the following formula:\n",
    "f(n)=0 if n=0\n",
    "f(n)=1 if n=1\n",
    "f(n)=f(n-1)+f(n-2) if n>1"
   ]
  },
  {
   "cell_type": "code",
   "execution_count": 3,
   "metadata": {},
   "outputs": [
    {
     "name": "stdout",
     "output_type": "stream",
     "text": [
      "[0, 1, 1, 2, 3, 5, 8, 13]\n"
     ]
    }
   ],
   "source": [
    "x = [0,1]\n",
    "fib_series = x[0:2] + [x.append(x[-1] + x[-2]) or x[-1]  for i in range(7-1)]\n",
    "print(fib_series)"
   ]
  },
  {
   "cell_type": "code",
   "execution_count": null,
   "metadata": {},
   "outputs": [],
   "source": [
    "Q4). Assuming that we have some email addresses in the username@companyname.com format,\n",
    "please write program to print the user name of a given email address. Both user names and\n",
    "company names are composed of letters only."
   ]
  },
  {
   "cell_type": "code",
   "execution_count": 4,
   "metadata": {},
   "outputs": [
    {
     "name": "stdout",
     "output_type": "stream",
     "text": [
      "john\n"
     ]
    }
   ],
   "source": [
    "def username(s):\n",
    "    s = s.split('@')\n",
    "    return s[0]\n",
    "print(username('john@example.com'))"
   ]
  },
  {
   "cell_type": "code",
   "execution_count": null,
   "metadata": {},
   "outputs": [],
   "source": [
    "Q5). Define a class named Shape and its subclass Square. The Square class has an init function\n",
    "which takes a length as argument. Both classes have a area function which can print the area\n",
    "of the shape where Shape area is 0 by default."
   ]
  },
  {
   "cell_type": "code",
   "execution_count": 5,
   "metadata": {},
   "outputs": [
    {
     "data": {
      "text/plain": [
       "4"
      ]
     },
     "execution_count": 5,
     "metadata": {},
     "output_type": "execute_result"
    }
   ],
   "source": [
    "class Shape:\n",
    "    area = 0\n",
    "    def __init__(self):\n",
    "        pass\n",
    "    def area(self):\n",
    "        print(Shape.area)\n",
    "\n",
    "\n",
    "\n",
    "class Square(Shape):\n",
    "\n",
    "    def __init__(self, length):\n",
    "        self.length = length\n",
    "\n",
    "    def area(self):\n",
    "        a = (self.length * self.length)\n",
    "        return a\n",
    "\n",
    "\n",
    "s = Square(2)\n",
    "s.area()"
   ]
  },
  {
   "cell_type": "code",
   "execution_count": null,
   "metadata": {},
   "outputs": [],
   "source": []
  }
 ],
 "metadata": {
  "kernelspec": {
   "display_name": "Python 3",
   "language": "python",
   "name": "python3"
  },
  "language_info": {
   "codemirror_mode": {
    "name": "ipython",
    "version": 3
   },
   "file_extension": ".py",
   "mimetype": "text/x-python",
   "name": "python",
   "nbconvert_exporter": "python",
   "pygments_lexer": "ipython3",
   "version": "3.8.5"
  }
 },
 "nbformat": 4,
 "nbformat_minor": 4
}
