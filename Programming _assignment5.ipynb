{
 "cells": [
  {
   "cell_type": "code",
   "execution_count": null,
   "metadata": {},
   "outputs": [],
   "source": [
    "Q1) Write a Python Program to Find LCM?"
   ]
  },
  {
   "cell_type": "code",
   "execution_count": 5,
   "metadata": {},
   "outputs": [
    {
     "name": "stdout",
     "output_type": "stream",
     "text": [
      "The L.C.M. is 72\n"
     ]
    }
   ],
   "source": [
    "def lcm(x, y):\n",
    "    if x > y:\n",
    "        greater = x\n",
    "    else:\n",
    "        greater = y\n",
    "\n",
    "    while(True):\n",
    "        if((greater % x == 0) and (greater % y == 0)):\n",
    "            lcm = greater\n",
    "            break\n",
    "        greater += 1\n",
    "\n",
    "    return lcm\n",
    "\n",
    "x = 36\n",
    "y = 24\n",
    "\n",
    "print(\"The L.C.M. is\", lcm(x,y))"
   ]
  },
  {
   "cell_type": "code",
   "execution_count": null,
   "metadata": {},
   "outputs": [],
   "source": [
    "Q2) Write a Python Program to Find HCF?"
   ]
  },
  {
   "cell_type": "code",
   "execution_count": 6,
   "metadata": {},
   "outputs": [
    {
     "name": "stdout",
     "output_type": "stream",
     "text": [
      "6\n"
     ]
    }
   ],
   "source": [
    "def hcf(a,b):\n",
    "    if (b == 0):\n",
    "        return a\n",
    "    \n",
    "    return hcf(b , a%b)\n",
    "\n",
    "a = 54\n",
    "b = 24\n",
    "print(hcf(a,b))"
   ]
  },
  {
   "cell_type": "code",
   "execution_count": null,
   "metadata": {},
   "outputs": [],
   "source": [
    "Q3) Write a Python Program to Convert Decimal to Binary, Octal and Hexadecimal?"
   ]
  },
  {
   "cell_type": "code",
   "execution_count": 7,
   "metadata": {},
   "outputs": [
    {
     "name": "stdout",
     "output_type": "stream",
     "text": [
      "Enter the number in decimal: 10\n",
      "IN BINARY :  0b1010\n",
      "IN OCTAL :  0o12\n",
      "IN HEXADECIMAL :  0xa\n"
     ]
    }
   ],
   "source": [
    "def binary(n):\n",
    "    return bin(n)\n",
    "def octal(n):\n",
    "    return oct(n)\n",
    "def hexadecimal(n):\n",
    "    return hex(n)\n",
    "\n",
    "n = int(input(\"Enter the number in decimal: \"))\n",
    "print(\"IN BINARY : \",binary(n))\n",
    "print(\"IN OCTAL : \",octal(n))\n",
    "print(\"IN HEXADECIMAL : \",hexadecimal(n))"
   ]
  },
  {
   "cell_type": "code",
   "execution_count": null,
   "metadata": {},
   "outputs": [],
   "source": [
    "Q4) Write a Python Program To Find ASCII value of a character?"
   ]
  },
  {
   "cell_type": "code",
   "execution_count": 8,
   "metadata": {},
   "outputs": [
    {
     "name": "stdout",
     "output_type": "stream",
     "text": [
      "Enter the character: a\n",
      "ASCII:  97\n"
     ]
    }
   ],
   "source": [
    "def ASCII(k):\n",
    "    return ord(k)\n",
    "\n",
    "k = input(\"Enter the character: \")\n",
    "print(\"ASCII: \",ASCII(k))"
   ]
  },
  {
   "cell_type": "code",
   "execution_count": null,
   "metadata": {},
   "outputs": [],
   "source": [
    "Q5) Write a Python Program to Make a Simple Calculator with 4 basic mathematical operations?"
   ]
  },
  {
   "cell_type": "code",
   "execution_count": 9,
   "metadata": {},
   "outputs": [
    {
     "name": "stdout",
     "output_type": "stream",
     "text": [
      "WELCOME TO CALCULATOR\n",
      "YOU CAN PERFORM VARIOUS OPERATIONS\n",
      "1) Add\n",
      "2) Subtact\n",
      "3) Multiply\n",
      "4) Divide\n",
      "Enter first Number: 45\n",
      "Enter the second Number: 34\n",
      "Enter the operation Number: 2\n",
      "11\n",
      "Want to use more press y for yes or n for no\n",
      "Enter here: y\n",
      "Enter first Number: 21\n",
      "Enter the second Number: 7\n",
      "Enter the operation Number: 4\n",
      "3.0\n",
      "Want to use more press y for yes or n for no\n",
      "Enter here: n\n",
      "THank you for using \n"
     ]
    }
   ],
   "source": [
    "def add(a,b):\n",
    "    return a + b\n",
    "def sub(a,b):\n",
    "    return a - b\n",
    "def multiply(a,b):\n",
    "    return a * b\n",
    "def divide(a,b):\n",
    "    return a / b\n",
    "\n",
    "print(\"\"\"WELCOME TO CALCULATOR\n",
    "YOU CAN PERFORM VARIOUS OPERATIONS\n",
    "1) Add\n",
    "2) Subtact\n",
    "3) Multiply\n",
    "4) Divide\"\"\")\n",
    "while (True):\n",
    "    a = int(input(\"Enter first Number: \"))\n",
    "    b = int(input(\"Enter the second Number: \"))\n",
    "    c = int(input(\"Enter the operation Number: \"))\n",
    "    if c == 1:\n",
    "        print(add(a,b))\n",
    "    elif c == 2:\n",
    "        print(sub(a,b))\n",
    "    elif c == 3:\n",
    "        print(multiply(a,b))\n",
    "    elif c == 4:\n",
    "        print(divide(a,b))\n",
    "    else:\n",
    "        print(\"Entered wrong option\")\n",
    "    \n",
    "    print(\"Want to use more press y for yes or n for no\")\n",
    "    d = input(\"Enter here: \")\n",
    "    if d == 'y' or d == \"Y\":\n",
    "        pass\n",
    "    else:\n",
    "        print(\"THank you for using \")\n",
    "        break"
   ]
  },
  {
   "cell_type": "code",
   "execution_count": null,
   "metadata": {},
   "outputs": [],
   "source": []
  }
 ],
 "metadata": {
  "kernelspec": {
   "display_name": "Python 3",
   "language": "python",
   "name": "python3"
  },
  "language_info": {
   "codemirror_mode": {
    "name": "ipython",
    "version": 3
   },
   "file_extension": ".py",
   "mimetype": "text/x-python",
   "name": "python",
   "nbconvert_exporter": "python",
   "pygments_lexer": "ipython3",
   "version": "3.8.5"
  }
 },
 "nbformat": 4,
 "nbformat_minor": 4
}
