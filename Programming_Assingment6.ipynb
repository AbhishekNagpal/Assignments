{
 "cells": [
  {
   "cell_type": "code",
   "execution_count": null,
   "metadata": {},
   "outputs": [],
   "source": [
    "Q1) Write a Python Program to Display Fibonacci Sequence Using Recursion?"
   ]
  },
  {
   "cell_type": "code",
   "execution_count": 1,
   "metadata": {},
   "outputs": [
    {
     "name": "stdout",
     "output_type": "stream",
     "text": [
      "Enter the Number of terms: 10\n",
      "0 1 1 2 3 5 8 13 21 34 "
     ]
    }
   ],
   "source": [
    "def fib(n):\n",
    "    if n == 0 or n == 1:\n",
    "        return n\n",
    "    return fib(n-1) + fib(n-2)\n",
    "n = int(input(\"Enter the Number of terms: \"))\n",
    "for i in range(n):\n",
    "    print(fib(i),end = \" \")"
   ]
  },
  {
   "cell_type": "code",
   "execution_count": null,
   "metadata": {},
   "outputs": [],
   "source": [
    "Q2) Write a Python Program to Find Factorial of Number Using Recursion?"
   ]
  },
  {
   "cell_type": "code",
   "execution_count": 2,
   "metadata": {},
   "outputs": [
    {
     "name": "stdout",
     "output_type": "stream",
     "text": [
      "Enter the number: 5\n",
      "Factorial is :  120\n"
     ]
    }
   ],
   "source": [
    "def fact(n):\n",
    "    if (n == 0):\n",
    "        return 1\n",
    "    return n * fact(n-1)\n",
    "n = int(input(\"Enter the number: \"))\n",
    "print(\"Factorial is : \",fact(n))"
   ]
  },
  {
   "cell_type": "code",
   "execution_count": null,
   "metadata": {},
   "outputs": [],
   "source": [
    "Q3) Write a Python Program to calculate your Body Mass Index?"
   ]
  },
  {
   "cell_type": "code",
   "execution_count": 3,
   "metadata": {},
   "outputs": [
    {
     "name": "stdout",
     "output_type": "stream",
     "text": [
      "Enter the height: 1.9\n",
      "Enter the weight: 90\n",
      "BMI:  24.930747922437675\n"
     ]
    }
   ],
   "source": [
    "def body_mass_index(h,w):\n",
    "    bmi = w/(h**2)\n",
    "    return bmi\n",
    "\n",
    "h = float(input(\"Enter the height: \"))\n",
    "w = float(input(\"Enter the weight: \"))\n",
    "print(\"BMI: \",body_mass_index(h,w))"
   ]
  },
  {
   "cell_type": "code",
   "execution_count": null,
   "metadata": {},
   "outputs": [],
   "source": [
    "Q4) Write a Python Program to calculate the natural logarithm of any number?"
   ]
  },
  {
   "cell_type": "code",
   "execution_count": 4,
   "metadata": {},
   "outputs": [
    {
     "name": "stdout",
     "output_type": "stream",
     "text": [
      "Enter the Number: 10\n",
      "ANSWER:  2.302585092994046\n"
     ]
    }
   ],
   "source": [
    "import math\n",
    "def cal(n):\n",
    "    ans = math.log(n)\n",
    "    return ans\n",
    "n = int(input(\"Enter the Number: \"))\n",
    "print(\"ANSWER: \",cal(n))"
   ]
  },
  {
   "cell_type": "code",
   "execution_count": null,
   "metadata": {},
   "outputs": [],
   "source": [
    "Q5) Write a Python Program for cube sum of first n natural numbers?"
   ]
  },
  {
   "cell_type": "code",
   "execution_count": 5,
   "metadata": {},
   "outputs": [
    {
     "name": "stdout",
     "output_type": "stream",
     "text": [
      "Enter the Number: 5\n",
      "Cube Sum is:  225\n"
     ]
    }
   ],
   "source": [
    "def cube_sum(n):\n",
    "    if (n == 0):\n",
    "        return 0\n",
    "    return (n**3) + cube_sum(n-1)\n",
    "n = int(input(\"Enter the Number: \"))\n",
    "print(\"Cube Sum is: \",cube_sum(n))"
   ]
  }
 ],
 "metadata": {
  "kernelspec": {
   "display_name": "Python 3",
   "language": "python",
   "name": "python3"
  },
  "language_info": {
   "codemirror_mode": {
    "name": "ipython",
    "version": 3
   },
   "file_extension": ".py",
   "mimetype": "text/x-python",
   "name": "python",
   "nbconvert_exporter": "python",
   "pygments_lexer": "ipython3",
   "version": "3.8.5"
  }
 },
 "nbformat": 4,
 "nbformat_minor": 4
}
