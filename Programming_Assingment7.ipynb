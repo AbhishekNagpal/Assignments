{
 "cells": [
  {
   "cell_type": "code",
   "execution_count": 1,
   "metadata": {},
   "outputs": [],
   "source": [
    "import array as arr"
   ]
  },
  {
   "cell_type": "code",
   "execution_count": null,
   "metadata": {},
   "outputs": [],
   "source": [
    "Q1) Write a Python Program to find sum of array?"
   ]
  },
  {
   "cell_type": "code",
   "execution_count": 2,
   "metadata": {},
   "outputs": [
    {
     "name": "stdout",
     "output_type": "stream",
     "text": [
      "55\n"
     ]
    }
   ],
   "source": [
    "def sum_array(arr):\n",
    "    s = 0\n",
    "    for i in range(0,len(arr)):\n",
    "        s += arr[i]\n",
    "    return s\n",
    "a = arr.array(\"i\",[1,2,3,4,5,6,7,8,9,10])\n",
    "print(sum_array(a))"
   ]
  },
  {
   "cell_type": "code",
   "execution_count": null,
   "metadata": {},
   "outputs": [],
   "source": [
    "Q2) Write a Python Program to find largest element in an array?"
   ]
  },
  {
   "cell_type": "code",
   "execution_count": 3,
   "metadata": {},
   "outputs": [
    {
     "name": "stdout",
     "output_type": "stream",
     "text": [
      "Max Number in the array is:  102\n"
     ]
    }
   ],
   "source": [
    "def largest(arr):\n",
    "    mx = arr[0]\n",
    "    for i in range(0,len(arr)):\n",
    "        if arr[i] > mx:\n",
    "            mx = arr[i]\n",
    "    \n",
    "    return mx\n",
    "\n",
    "a = arr.array('i',[34,22,89,90,12,99,102,33,21])\n",
    "print(\"Max Number in the array is: \",largest(a))"
   ]
  },
  {
   "cell_type": "code",
   "execution_count": null,
   "metadata": {},
   "outputs": [],
   "source": [
    "Q3) Write a Python Program for array rotation?"
   ]
  },
  {
   "cell_type": "code",
   "execution_count": 4,
   "metadata": {},
   "outputs": [
    {
     "name": "stdout",
     "output_type": "stream",
     "text": [
      "2 3 4 5 6 7 8 9 10 1 "
     ]
    }
   ],
   "source": [
    "def rotation(arr):\n",
    "    temp = arr[0]\n",
    "    n = len(arr)\n",
    "    for i in range(0,n-1):\n",
    "        arr[i] = arr[i+1]\n",
    "    arr[n-1] = temp\n",
    "    \n",
    "a = arr.array(\"i\",[1,2,3,4,5,6,7,8,9,10])\n",
    "rotation(a)\n",
    "for i in range(0,len(a)):\n",
    "    print(a[i],end = \" \")"
   ]
  },
  {
   "cell_type": "code",
   "execution_count": null,
   "metadata": {},
   "outputs": [],
   "source": [
    "Q4) Write a Python Program to Split the array and add the first part to the end?"
   ]
  },
  {
   "cell_type": "code",
   "execution_count": 5,
   "metadata": {},
   "outputs": [
    {
     "name": "stdout",
     "output_type": "stream",
     "text": [
      "How many elements u want to split: 3\n",
      "4 5 6 7 8 9 10 1 2 3 "
     ]
    }
   ],
   "source": [
    "def split(arr,d):\n",
    "    n = len(arr)\n",
    "    for i in range(0,d):\n",
    "        temp = arr[0]\n",
    "        for i in range(0,n-1):\n",
    "            arr[i] = arr[i+1]\n",
    "        arr[n-1] = temp\n",
    "        \n",
    "d = int(input(\"How many elements u want to split: \"))\n",
    "a = arr.array(\"i\",[1,2,3,4,5,6,7,8,9,10])\n",
    "split(a,d)\n",
    "for i in range(0,len(a)):\n",
    "    print(a[i],end = \" \")"
   ]
  },
  {
   "cell_type": "code",
   "execution_count": null,
   "metadata": {},
   "outputs": [],
   "source": [
    "Q5) Write a Python Program to check if given array is Monotonic?"
   ]
  },
  {
   "cell_type": "code",
   "execution_count": 6,
   "metadata": {},
   "outputs": [
    {
     "name": "stdout",
     "output_type": "stream",
     "text": [
      "True\n"
     ]
    }
   ],
   "source": [
    "def check_monotonic(arr):\n",
    "    n = len(arr)\n",
    "    if n == 1:\n",
    "        return True\n",
    "    else:\n",
    "        \n",
    "        if all(arr[i] >= arr[i+1] for i in range(0,n-1)) or all(arr[i] <= arr[i+1] for i in range(0,n-1)):\n",
    "            return True\n",
    "        else:\n",
    "            return False\n",
    "        \n",
    "a = arr.array(\"i\",[9,8,7,6,5,4,3,2,1])\n",
    "print(check_monotonic(a))"
   ]
  },
  {
   "cell_type": "code",
   "execution_count": null,
   "metadata": {},
   "outputs": [],
   "source": []
  }
 ],
 "metadata": {
  "kernelspec": {
   "display_name": "Python 3",
   "language": "python",
   "name": "python3"
  },
  "language_info": {
   "codemirror_mode": {
    "name": "ipython",
    "version": 3
   },
   "file_extension": ".py",
   "mimetype": "text/x-python",
   "name": "python",
   "nbconvert_exporter": "python",
   "pygments_lexer": "ipython3",
   "version": "3.8.5"
  }
 },
 "nbformat": 4,
 "nbformat_minor": 4
}
