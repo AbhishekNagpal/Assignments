{
 "cells": [
  {
   "cell_type": "code",
   "execution_count": null,
   "metadata": {},
   "outputs": [],
   "source": [
    "Q1) Create a function that takes a list of strings and integers, and filters out the list so that it\n",
    "returns a list of integers only."
   ]
  },
  {
   "cell_type": "code",
   "execution_count": 1,
   "metadata": {},
   "outputs": [
    {
     "name": "stdout",
     "output_type": "stream",
     "text": [
      "[1, 2, 3, 6, 7, 8]\n"
     ]
    }
   ],
   "source": [
    "def fun_1(li):\n",
    "    li1=[]\n",
    "    for i in range(len(li)):\n",
    "        if type(li[i]) == int:\n",
    "            li1.append(li[i])\n",
    "    return li1\n",
    "\n",
    "li = [\"ab\",1,2,3,'dv','df','sd',6,7,8]\n",
    "print(fun_1(li))"
   ]
  },
  {
   "cell_type": "code",
   "execution_count": null,
   "metadata": {},
   "outputs": [],
   "source": [
    "Q2) Given a list of numbers, create a function which returns the list but with each element&#39;s\n",
    "index in the list added to itself. This means you add 0 to the number at index 0, add 1 to the\n",
    "number at index 1, etc..."
   ]
  },
  {
   "cell_type": "code",
   "execution_count": 2,
   "metadata": {},
   "outputs": [
    {
     "name": "stdout",
     "output_type": "stream",
     "text": [
      "[1, 3, 5, 7, 9, 11, 13]\n"
     ]
    }
   ],
   "source": [
    "def fun_2(li):\n",
    "    for i in range(len(li)):\n",
    "        li[i] = li[i] + i\n",
    "    return li\n",
    "\n",
    "li = [1,2,3,4,5,6,7]\n",
    "print(fun_2(li))"
   ]
  },
  {
   "cell_type": "code",
   "execution_count": null,
   "metadata": {},
   "outputs": [],
   "source": [
    "Q3) Create a function that takes the height and radius of a cone as arguments and returns the\n",
    "volume of the cone rounded to the nearest hundredth. See the resources tab for the formula."
   ]
  },
  {
   "cell_type": "code",
   "execution_count": 3,
   "metadata": {},
   "outputs": [
    {
     "name": "stdout",
     "output_type": "stream",
     "text": [
      "Enter height: 3\n",
      "Enter radius: 2\n",
      "12.571199999999997\n"
     ]
    }
   ],
   "source": [
    "def fun_3(h,r):\n",
    "    pi = 3.1428\n",
    "    a = 1/3\n",
    "    return a*pi*(r**2)*h\n",
    "\n",
    "h = float(input(\"Enter height: \"))\n",
    "r = float(input(\"Enter radius: \"))\n",
    "print(fun_3(h,r))"
   ]
  },
  {
   "cell_type": "code",
   "execution_count": null,
   "metadata": {},
   "outputs": [],
   "source": [
    "Q4) This Triangular Number Sequence is generated from a pattern of dots that form a triangle.\n",
    "The first 5 numbers of the sequence, or dots, are:\n",
    "\n",
    "1, 3, 6, 10, 15\n",
    "\n",
    "This means that the first triangle has just one dot, the second one has three dots, the third one\n",
    "has 6 dots and so on.\n",
    "\n",
    "Write a function that gives the number of dots with its corresponding triangle number of the\n",
    "sequence."
   ]
  },
  {
   "cell_type": "code",
   "execution_count": 4,
   "metadata": {},
   "outputs": [
    {
     "name": "stdout",
     "output_type": "stream",
     "text": [
      "Enter Number: 215\n",
      "23220\n"
     ]
    }
   ],
   "source": [
    "def fun_4(n):\n",
    "    a = 0\n",
    "    b = 0\n",
    "    for i in range(1,n+1):\n",
    "        a = i + b\n",
    "        b = b + i\n",
    "    return a\n",
    "\n",
    "n = int(input(\"Enter Number: \"))\n",
    "print(fun_4(n))"
   ]
  },
  {
   "cell_type": "code",
   "execution_count": null,
   "metadata": {},
   "outputs": [],
   "source": [
    "Q5) Create a function that takes a list of numbers between 1 and 10 (excluding one number) and\n",
    "returns the missing number."
   ]
  },
  {
   "cell_type": "code",
   "execution_count": 5,
   "metadata": {},
   "outputs": [
    {
     "name": "stdout",
     "output_type": "stream",
     "text": [
      "6\n"
     ]
    }
   ],
   "source": [
    "def fun_5(li):\n",
    "    a = 0\n",
    "    li.sort()\n",
    "    for i in range(len(li)):\n",
    "        if i+1 == li[i]:\n",
    "            pass\n",
    "        else:\n",
    "            a = i+1\n",
    "            break\n",
    "    return a\n",
    "\n",
    "li = [1,5,2,3,8,4,7,10,9]\n",
    "print(fun_5(li))"
   ]
  },
  {
   "cell_type": "code",
   "execution_count": null,
   "metadata": {},
   "outputs": [],
   "source": []
  }
 ],
 "metadata": {
  "kernelspec": {
   "display_name": "Python 3",
   "language": "python",
   "name": "python3"
  },
  "language_info": {
   "codemirror_mode": {
    "name": "ipython",
    "version": 3
   },
   "file_extension": ".py",
   "mimetype": "text/x-python",
   "name": "python",
   "nbconvert_exporter": "python",
   "pygments_lexer": "ipython3",
   "version": "3.8.5"
  }
 },
 "nbformat": 4,
 "nbformat_minor": 4
}
