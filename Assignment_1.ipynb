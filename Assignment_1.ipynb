{
 "cells": [
  {
   "cell_type": "raw",
   "metadata": {},
   "source": [
    "Q1) 1. In the below elements which of them are values or an expression? eg:- values can be\n",
    "integer or string and expressions will be mathematical operators.\n",
    "*\n",
    "\"hello\"\n",
    "-87.8\n",
    "-\n",
    "/\n",
    "+\n",
    "6"
   ]
  },
  {
   "cell_type": "raw",
   "metadata": {},
   "source": [
    "ANS 1\n",
    "* is an expression\n",
    "\"hello\" is a value\n",
    "-87.8 is a value\n",
    "- is an expression\n",
    "/ is an expression\n",
    "+ is an expression\n",
    "6 is a value"
   ]
  },
  {
   "cell_type": "raw",
   "metadata": {},
   "source": [
    "Q2) What is the difference between string and variable?"
   ]
  },
  {
   "cell_type": "raw",
   "metadata": {},
   "source": [
    "ANS 2\n",
    "Variable is like a container which is used to save data of any type and its location is saved in our system memory.\n",
    "Example: a = 10, here a is the variable and it is storing value of 10\n",
    "\n",
    "String is colection of letters ,can also contain special characters.\n",
    "Example: a = \"Hello \",here a is the variable and the type of data stored in it is Srting"
   ]
  },
  {
   "cell_type": "raw",
   "metadata": {},
   "source": [
    "Q3) Describe three different data types."
   ]
  },
  {
   "cell_type": "raw",
   "metadata": {},
   "source": [
    "ANS 3\n",
    "1) Float : Float is a data type which contains a number with decimal values.Example 89.32793\n",
    "    \n",
    "2) Integer : Integer is a data type which contains zero,positive and negative numbers but not contain decimal values.\n",
    "   Example - 45,32\n",
    "\n",
    "3) String : String is colection of letters ,can also contain special characters.\n",
    "Example:  \"Hello \"\n"
   ]
  },
  {
   "cell_type": "raw",
   "metadata": {},
   "source": [
    "Q)4 What is an expression made up of? What do all expressions do?"
   ]
  },
  {
   "cell_type": "raw",
   "metadata": {},
   "source": [
    "ANS 4\n",
    "Expresion is a combination which contains variables and operators and based on that expression we use to solve it.\n",
    "Example: 45+90 *89 , is an expression\n",
    "With the help of expression we get a result."
   ]
  },
  {
   "cell_type": "raw",
   "metadata": {},
   "source": [
    "Q5) This assignment statements, like spam = 10. What is the difference between an\n",
    "expression and a statement?"
   ]
  },
  {
   "cell_type": "raw",
   "metadata": {},
   "source": [
    "ANS 5\n",
    "Statement is a simply a command which we give , it can be assigning values to data ,printing statements and many more.\n",
    "Ex spam = 10\n",
    "Expresion is a combination which contains variables and operators and based on that expression we use to solve it.\n",
    "Example: 45+90 *89 , is an expression"
   ]
  },
  {
   "cell_type": "raw",
   "metadata": {},
   "source": [
    "Q6) After running the following code, what does the variable bacon contain?\n",
    "bacon = 22\n",
    "bacon + 1"
   ]
  },
  {
   "cell_type": "raw",
   "metadata": {},
   "source": [
    "ANS 6\n",
    "22"
   ]
  },
  {
   "cell_type": "raw",
   "metadata": {},
   "source": [
    "Q7) What should the values of the following two terms be?\n",
    "\"spam\"+\"spamspam\"\n",
    "\"spam\"*3"
   ]
  },
  {
   "cell_type": "raw",
   "metadata": {},
   "source": [
    "ANS 7\n",
    "output\n",
    "\"spamspamspam\"\n",
    "\"spamspamspam\""
   ]
  },
  {
   "cell_type": "raw",
   "metadata": {},
   "source": [
    "Q8) Why is eggs a valid variable name while 100 is invalid?"
   ]
  },
  {
   "cell_type": "raw",
   "metadata": {},
   "source": [
    "ANS 8\n",
    "According to variable naming rules we cannot make  variable starting with integer type but we can start it with string\n",
    "type.That's why eggs is a valid variable name and 100 is not."
   ]
  },
  {
   "cell_type": "raw",
   "metadata": {},
   "source": [
    "Q9) What three functions can be used to get the integer, floating-point number, or string\n",
    "version of a value?"
   ]
  },
  {
   "cell_type": "raw",
   "metadata": {},
   "source": [
    "ANS 9\n",
    "We can use the following function\n",
    "int()\n",
    "float()\n",
    "str()"
   ]
  },
  {
   "cell_type": "raw",
   "metadata": {},
   "source": [
    "Q10) Why does this expression cause an error? How can you fix it?\n",
    "'I have eaten'+99+'burritos.'"
   ]
  },
  {
   "cell_type": "raw",
   "metadata": {},
   "source": [
    "ANS 10\n",
    "This expression causes an error because the data type is not same in the given expression.we can fix it by doing\n",
    "type casting as shown ."
   ]
  },
  {
   "cell_type": "code",
   "execution_count": 8,
   "metadata": {},
   "outputs": [
    {
     "data": {
      "text/plain": [
       "'I have eaten99burritos'"
      ]
     },
     "execution_count": 8,
     "metadata": {},
     "output_type": "execute_result"
    }
   ],
   "source": [
    "\"I have eaten\"+str(99)+\"burritos\""
   ]
  }
 ],
 "metadata": {
  "kernelspec": {
   "display_name": "Python 3",
   "language": "python",
   "name": "python3"
  },
  "language_info": {
   "codemirror_mode": {
    "name": "ipython",
    "version": 3
   },
   "file_extension": ".py",
   "mimetype": "text/x-python",
   "name": "python",
   "nbconvert_exporter": "python",
   "pygments_lexer": "ipython3",
   "version": "3.8.5"
  }
 },
 "nbformat": 4,
 "nbformat_minor": 4
}
