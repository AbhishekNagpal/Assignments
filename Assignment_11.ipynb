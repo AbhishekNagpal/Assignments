{
 "cells": [
  {
   "cell_type": "code",
   "execution_count": null,
   "metadata": {},
   "outputs": [],
   "source": [
    "Q1). Create an assert statement that throws an AssertionError if the variable spam is a\n",
    "negative integer. "
   ]
  },
  {
   "cell_type": "code",
   "execution_count": 23,
   "metadata": {},
   "outputs": [
    {
     "name": "stdout",
     "output_type": "stream",
     "text": [
      "Enter Integer: -3\n",
      "AssertionError: please enter positive value\n"
     ]
    }
   ],
   "source": [
    "spam = int(input(\"Enter Integer: \"))\n",
    "try:\n",
    "    assert spam>=0 ,\"AssertionError: please enter positive value\"\n",
    "except AssertionError as e:\n",
    "    print(e)"
   ]
  },
  {
   "cell_type": "code",
   "execution_count": null,
   "metadata": {},
   "outputs": [],
   "source": [
    "Q2). Write an assert statement that triggers an AssertionError if the variables eggs\n",
    "and bacon contain strings that are the same as each other, even if their cases are different\n",
    "(that is, 'hello' and 'hello' are considered the same, and 'goodbye' and 'GOODbye' are \n",
    " also considered the same)."
   ]
  },
  {
   "cell_type": "code",
   "execution_count": 24,
   "metadata": {},
   "outputs": [
    {
     "name": "stdout",
     "output_type": "stream",
     "text": [
      "Enter a string value for \"eggs\"hello\n",
      "Enter a string value for \"bacon\"hello\n",
      "AssertionError: String  of \"eggs\" & \"bacon\" are equal\n"
     ]
    }
   ],
   "source": [
    "eggs=input('Enter a string value for \"eggs\"')\n",
    "bacon=input('Enter a string value for \"bacon\"')\n",
    "try:\n",
    "    assert eggs.casefold()!=bacon.casefold(),'AssertionError: String  of \"eggs\" & \"bacon\" are equal'\n",
    "    print(eggs)\n",
    "    print(bacon)\n",
    "except AssertionError as e:\n",
    "    print(e)"
   ]
  },
  {
   "cell_type": "code",
   "execution_count": null,
   "metadata": {},
   "outputs": [],
   "source": [
    "Q3). Create an assert statement that throws an AssertionError every time."
   ]
  },
  {
   "cell_type": "code",
   "execution_count": 25,
   "metadata": {},
   "outputs": [
    {
     "name": "stdout",
     "output_type": "stream",
     "text": [
      "a: 3\n",
      "AssertionError:Hello\n"
     ]
    }
   ],
   "source": [
    "a = int(input('a: '))\n",
    "try:\n",
    "    assert False,\"AssertionError:Hello\"\n",
    "except AssertionError as e:\n",
    "    print(e)"
   ]
  },
  {
   "cell_type": "code",
   "execution_count": null,
   "metadata": {},
   "outputs": [],
   "source": [
    "Q4). What are the two lines that must be present in your software in order to call\n",
    "logging.debug()?"
   ]
  },
  {
   "cell_type": "code",
   "execution_count": 26,
   "metadata": {},
   "outputs": [],
   "source": [
    "import logging\n",
    "logging.basicConfig(filename=\"log_file.log\",level=logging.DEBUG,format='%(asctime)s %(levelname)s %(message)s')\n",
    "\n",
    "logging.debug('This is debugging error')"
   ]
  },
  {
   "cell_type": "code",
   "execution_count": null,
   "metadata": {},
   "outputs": [],
   "source": [
    "Q5).  What are the two lines that your program must have in order to have logging.debug()\n",
    "send a logging message to a file named programLog.txt?"
   ]
  },
  {
   "cell_type": "code",
   "execution_count": null,
   "metadata": {},
   "outputs": [],
   "source": [
    "import logging\n",
    "logging.basicConfig(filename=\"programLog.txt\",level=logging.DEBUG,format='%(asctime)s %(levelname)s %(message)s')\n",
    "\n",
    "logging.debug('This is debugging error')"
   ]
  },
  {
   "cell_type": "code",
   "execution_count": null,
   "metadata": {},
   "outputs": [],
   "source": [
    "Q6). What are the five levels of logging?"
   ]
  },
  {
   "cell_type": "code",
   "execution_count": null,
   "metadata": {},
   "outputs": [],
   "source": [
    "1. DEGUG\n",
    "2. ERROR\n",
    "3. INFO\n",
    "4. WARNING\n",
    "5. CRITICAL"
   ]
  },
  {
   "cell_type": "code",
   "execution_count": null,
   "metadata": {},
   "outputs": [],
   "source": [
    "Q7).  What line of code would you add to your software to disable all logging messages?"
   ]
  },
  {
   "cell_type": "code",
   "execution_count": null,
   "metadata": {},
   "outputs": [],
   "source": [
    "logging.disable()"
   ]
  },
  {
   "cell_type": "code",
   "execution_count": null,
   "metadata": {},
   "outputs": [],
   "source": [
    "Q8).Why is using logging messages better than using print() to display the same message?"
   ]
  },
  {
   "cell_type": "code",
   "execution_count": null,
   "metadata": {},
   "outputs": [],
   "source": [
    "1. Control what’s emitted\n",
    "2. Define what types of information you want to include in your logs\n",
    "3. Most importantly, set the destination for your logs"
   ]
  },
  {
   "cell_type": "code",
   "execution_count": null,
   "metadata": {},
   "outputs": [],
   "source": [
    "Q9). What are the differences between the Step Over, Step In, and Step Out buttons in the \n",
    "debugger?"
   ]
  },
  {
   "cell_type": "code",
   "execution_count": null,
   "metadata": {},
   "outputs": [],
   "source": [
    "1. Step Over command: \n",
    "This command lets the application execute the next action. If the action involves a call to\n",
    "an operation, it does not step into its implementation (it steps over it instead).\n",
    "2.Step Into command:\n",
    "Steps into the method to show what happens inside it. Use this option when you are not sure \n",
    "the method is returning a correct result.\n",
    "3.Step Out command:\n",
    "Steps out of the current method and takes you to the caller method."
   ]
  },
  {
   "cell_type": "code",
   "execution_count": null,
   "metadata": {},
   "outputs": [],
   "source": [
    "Q10). After you click Continue, when will the debugger stop ?"
   ]
  },
  {
   "cell_type": "code",
   "execution_count": null,
   "metadata": {},
   "outputs": [],
   "source": [
    "it will stop at next breakpoint if exists."
   ]
  },
  {
   "cell_type": "code",
   "execution_count": null,
   "metadata": {},
   "outputs": [],
   "source": [
    "Q11). What is the concept of a breakpoint?"
   ]
  },
  {
   "cell_type": "code",
   "execution_count": null,
   "metadata": {},
   "outputs": [],
   "source": [
    "it is a stopping point to degug the problem which have arrived."
   ]
  }
 ],
 "metadata": {
  "kernelspec": {
   "display_name": "Python 3",
   "language": "python",
   "name": "python3"
  },
  "language_info": {
   "codemirror_mode": {
    "name": "ipython",
    "version": 3
   },
   "file_extension": ".py",
   "mimetype": "text/x-python",
   "name": "python",
   "nbconvert_exporter": "python",
   "pygments_lexer": "ipython3",
   "version": "3.8.5"
  }
 },
 "nbformat": 4,
 "nbformat_minor": 4
}
