{
 "cells": [
  {
   "cell_type": "code",
   "execution_count": null,
   "metadata": {},
   "outputs": [],
   "source": [
    "Q1) Write a Python program to print \"Hello Pyhton\""
   ]
  },
  {
   "cell_type": "code",
   "execution_count": 1,
   "metadata": {},
   "outputs": [
    {
     "name": "stdout",
     "output_type": "stream",
     "text": [
      "Hello Python\n"
     ]
    }
   ],
   "source": [
    "# python program\n",
    "print(\"Hello Python\")"
   ]
  },
  {
   "cell_type": "code",
   "execution_count": null,
   "metadata": {},
   "outputs": [],
   "source": [
    "Q2) Write a Python program to do arithmetical operations addition and division.?"
   ]
  },
  {
   "cell_type": "code",
   "execution_count": 3,
   "metadata": {},
   "outputs": [
    {
     "name": "stdout",
     "output_type": "stream",
     "text": [
      "Enter the first number: 5\n",
      "Enter the second number: 8\n",
      "13\n",
      "0.625\n"
     ]
    }
   ],
   "source": [
    "def addition(a,b):\n",
    "    try:\n",
    "        add = a+b\n",
    "        return add\n",
    "    except Exception as e:\n",
    "        return (\"OOPS\",str(e),\"Happened\")\n",
    "\n",
    "def division(a,b):\n",
    "    try:\n",
    "        div = a / b\n",
    "        return div\n",
    "    except Exception as e:\n",
    "        return (\"OOPS\",str(e),\"Happened\")\n",
    "        \n",
    "a = int(input(\"Enter the first number: \"))\n",
    "b = int(input(\"Enter the second number: \"))\n",
    "print(addition(a,b))\n",
    "print(division(a,b))"
   ]
  },
  {
   "cell_type": "code",
   "execution_count": null,
   "metadata": {},
   "outputs": [],
   "source": [
    "Q3) Write a Python program to find the area of a triangle?"
   ]
  },
  {
   "cell_type": "code",
   "execution_count": 4,
   "metadata": {},
   "outputs": [
    {
     "name": "stdout",
     "output_type": "stream",
     "text": [
      "Enter the base value of triangle: 4\n",
      "Enter the height value of triangle: 8\n",
      "16.0\n"
     ]
    }
   ],
   "source": [
    "def area(b,h):\n",
    "    try:\n",
    "        ans = 0.5 * b * h\n",
    "        return ans\n",
    "    except:\n",
    "        return (\"you have done a mistake\")\n",
    "b = int(input(\"Enter the base value of triangle: \"))\n",
    "h = int(input(\"Enter the height value of triangle: \"))\n",
    "print(area(b,h))"
   ]
  },
  {
   "cell_type": "code",
   "execution_count": null,
   "metadata": {},
   "outputs": [],
   "source": [
    "Q4) Write a Python program to swap two variables?"
   ]
  },
  {
   "cell_type": "code",
   "execution_count": 5,
   "metadata": {},
   "outputs": [
    {
     "name": "stdout",
     "output_type": "stream",
     "text": [
      "Enter the first number: 4\n",
      "Enter the second number: 5\n",
      "Swapped number:  (5, 4)\n"
     ]
    }
   ],
   "source": [
    "def swap(a,b):\n",
    "    try:\n",
    "        a,b = b,a\n",
    "        return a,b\n",
    "    except:\n",
    "        return (\"something wrong happened\")\n",
    "a = int(input(\"Enter the first number: \"))\n",
    "b = int(input(\"Enter the second number: \"))\n",
    "print(\"Swapped number: \",swap(a,b))"
   ]
  },
  {
   "cell_type": "code",
   "execution_count": null,
   "metadata": {},
   "outputs": [],
   "source": [
    "Q5) Write a Python program to generate a random number?"
   ]
  },
  {
   "cell_type": "code",
   "execution_count": 9,
   "metadata": {},
   "outputs": [
    {
     "name": "stdout",
     "output_type": "stream",
     "text": [
      "33\n"
     ]
    }
   ],
   "source": [
    "import random\n",
    "print(random.randint(1,100))"
   ]
  }
 ],
 "metadata": {
  "kernelspec": {
   "display_name": "Python 3",
   "language": "python",
   "name": "python3"
  },
  "language_info": {
   "codemirror_mode": {
    "name": "ipython",
    "version": 3
   },
   "file_extension": ".py",
   "mimetype": "text/x-python",
   "name": "python",
   "nbconvert_exporter": "python",
   "pygments_lexer": "ipython3",
   "version": "3.8.5"
  }
 },
 "nbformat": 4,
 "nbformat_minor": 4
}
