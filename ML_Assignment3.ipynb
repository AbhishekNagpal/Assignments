{
 "cells": [
  {
   "cell_type": "code",
   "execution_count": null,
   "metadata": {},
   "outputs": [],
   "source": [
    "Q1).Explain the term machine learning, and how does it work? Explain two machine learning\n",
    "applications in the business world. What are some of the ethical concerns that machine learning\n",
    "applications could raise?"
   ]
  },
  {
   "cell_type": "code",
   "execution_count": null,
   "metadata": {},
   "outputs": [],
   "source": [
    "Ans. Machine learning is a technique  which is used to train machine without being  explicitly\n",
    "programmed. It gain experience from the data which has been already produced.\n",
    "\n",
    "It is used in Fraud detection , machine train itself in such a way that it tells us that \n",
    "whether a fraud has been occured or not. Uses the data in large number which makes it easier\n",
    "for the algorithm to see the trend and predict the output.\n",
    "\n",
    "It is also used in Trading, can check whether the price of a particular thing will rise or \n",
    "decrease . Uses the data in large number which makes it easier for the algorithm to see \n",
    "the trend and predict the output.\n",
    "\n",
    "Ethical Concerns:\n",
    "    Data Quality\n",
    "    Security \n",
    "    Cost to innovation"
   ]
  },
  {
   "cell_type": "code",
   "execution_count": null,
   "metadata": {},
   "outputs": [],
   "source": [
    "Q2). Describe the process of human learning:"
   ]
  },
  {
   "cell_type": "code",
   "execution_count": null,
   "metadata": {},
   "outputs": [],
   "source": [
    "i. Under the supervision of experts\n",
    "\n",
    "Whenever we try to make model using supervised algorithms means using the labelled data \n",
    "which has been produced till now for our training, in some cases we see that there is some\n",
    "uncertainity in the result which we are getting. So we try to get an industry expert which\n",
    "provides some facts which helps to increase the accuracy of the model trained."
   ]
  },
  {
   "cell_type": "code",
   "execution_count": null,
   "metadata": {},
   "outputs": [],
   "source": [
    "ii. With the assistance of experts in an indirect manner\n",
    "\n",
    "Whenever we try to make model using supervised algorithms means using the labelled data \n",
    "which has been produced till now for our training, in some cases we see that there is some\n",
    "uncertainity in the result which we are getting. In indiredt manner which is student centered\n",
    "approach , in which the students observe, investigate and draw inferences from data\n",
    "and try to makes it more accurate."
   ]
  },
  {
   "cell_type": "code",
   "execution_count": null,
   "metadata": {},
   "outputs": [],
   "source": [
    "iii. Self-education\n",
    "\n",
    "In this machine try to learn in such a way that the accuracy achieved  will be high and \n",
    "there is no such persons involved in the training by using some of the techniques \n",
    "as was in the previous two cases."
   ]
  },
  {
   "cell_type": "code",
   "execution_count": null,
   "metadata": {},
   "outputs": [],
   "source": [
    "Q3). Provide a few examples of various types of machine learning."
   ]
  },
  {
   "cell_type": "code",
   "execution_count": null,
   "metadata": {},
   "outputs": [],
   "source": [
    "Supervised Learning\n",
    ">> Spam Classification\n",
    ">> Fraud Detection\n",
    ">> Flight Fare Prediction\n",
    "\n",
    "Unsupervised Learning\n",
    ">> Customer Segmentation\n",
    ">> Recommendation System\n",
    ">> Inventory Management\n",
    "\n",
    "Reinforcement learning\n",
    ">> Motion Detection\n",
    ">> Robots"
   ]
  },
  {
   "cell_type": "code",
   "execution_count": null,
   "metadata": {},
   "outputs": [],
   "source": [
    "Q4). Examine the various forms of machine learning."
   ]
  },
  {
   "cell_type": "code",
   "execution_count": null,
   "metadata": {},
   "outputs": [],
   "source": [
    "Supervised Machine Learning\n",
    "It is a type of Machine learning which uses the labelled data for its training means the data \n",
    "which we use for training our model consists of input as well as output. Example Regrssion,\n",
    "classification\n",
    "\n",
    "Unsupervised Machine Learning\n",
    "It is a type of Machine Learning which uses the unlabelled data for its training means the \n",
    "data which we use for training our model only contains the independent variables not the \n",
    "dependent variables. Example - Clustering\n",
    "\n",
    "Reinforcement learning\n",
    "It is a self based learning , means machine performs some action and after performing some\n",
    "action it gets rating if its good then it saves the step and if not then try to make good \n",
    "steps to improve the accuracy.\n",
    "\n",
    "Semisupervised Learning\n",
    "It is the combination of both the supervised learning and unsupervised learning."
   ]
  },
  {
   "cell_type": "code",
   "execution_count": null,
   "metadata": {},
   "outputs": [],
   "source": [
    "Q5). Can you explain what a well-posed learning problem is? Explain the main characteristics that must\n",
    "be present to identify a learning problem properly."
   ]
  },
  {
   "cell_type": "code",
   "execution_count": null,
   "metadata": {},
   "outputs": [],
   "source": [
    "A computer program is said to learn from Experience E when given a task T,and some\n",
    "performance measure P.\n"
   ]
  },
  {
   "cell_type": "code",
   "execution_count": null,
   "metadata": {},
   "outputs": [],
   "source": [
    "Q6). Is machine learning capable of solving all problems? Give a detailed explanation\n",
    "of your answer."
   ]
  },
  {
   "cell_type": "code",
   "execution_count": null,
   "metadata": {},
   "outputs": [],
   "source": [
    "Now a days where Machine learning has grown a lot , but everything has a limit. \n",
    "Machine learning is used to solve a lot of problems but everything cannot be solved using \n",
    "Machine learning. Because of some limitations like quality of data, use of external expensive \n",
    "devices for collection of data."
   ]
  },
  {
   "cell_type": "code",
   "execution_count": null,
   "metadata": {},
   "outputs": [],
   "source": [
    "Q7).What are the various methods and technologies for solving machine learning problems? Any two\n",
    "of them should be defined in detail."
   ]
  },
  {
   "cell_type": "code",
   "execution_count": null,
   "metadata": {},
   "outputs": [],
   "source": [
    "Classification \n",
    "It is a technique in which the machine learning models try to predict the output that belongs\n",
    "to some particular category. Example Classifying  a mail is spam or ham , it will rain or not,\n",
    "which drug is required to patient and many more examples.\n",
    "\n",
    "Regression \n",
    "It is a technique in  which the machine learning models to predict the output which is an \n",
    "exact value not the category. All the values in this is almost continuous values means a \n",
    "differnce in values. Examples - Flight Fare prediction, House price prediction."
   ]
  },
  {
   "cell_type": "code",
   "execution_count": null,
   "metadata": {},
   "outputs": [],
   "source": [
    "Q8). Can you explain the various forms of supervised learning? Explain each one with an example\n",
    "application."
   ]
  },
  {
   "cell_type": "code",
   "execution_count": null,
   "metadata": {},
   "outputs": [],
   "source": [
    "Classification \n",
    "It is a technique in which the machine learning models try to predict the output that belongs\n",
    "to some particular category. Example Classifying  a mail is spam or ham , it will rain or not,\n",
    "which drug is required to patient and many more examples.\n",
    "\n",
    "Regression \n",
    "It is a technique in  which the machine learning models to predict the output which is an \n",
    "exact value not the category. All the values in this is almost continuous values means a \n",
    "differnce in values. Examples - Flight Fare prediction, House price prediction."
   ]
  },
  {
   "cell_type": "code",
   "execution_count": null,
   "metadata": {},
   "outputs": [],
   "source": [
    "Q9). What is the difference between supervised and unsupervised learning? With a sample application\n",
    "in each region, explain the differences."
   ]
  },
  {
   "cell_type": "code",
   "execution_count": null,
   "metadata": {},
   "outputs": [],
   "source": [
    "Supervised Learning\n",
    "It is a type of machine learning in which we use labelled data for our model training,\n",
    "labelled data means it contains dependent and independent variables both. \n",
    "Example - Spam or Ham Classification , in this the training data contains sample through \n",
    "which our model gets trained and gets some patterns or it will try to learn whether the\n",
    "amil is spam or not.\n",
    "\n",
    "Unsupervised Learning\n",
    "It is a type of machine learning in which we use unlabelled data for our model training,\n",
    "unlabelled data means it contains only independent variables not dependent variable.\n",
    "Example - Customer segmentation in this the organization does not have the output variable \n",
    "in the training data means it try to learn in such a way that it should predict the result \n",
    "without using the dependent variable in the training data and can recommend various things to \n",
    "customer so that organization can increase their sales."
   ]
  },
  {
   "cell_type": "code",
   "execution_count": null,
   "metadata": {},
   "outputs": [],
   "source": [
    "Q10). i. MATLAB is one of the most widely used programming languages."
   ]
  },
  {
   "cell_type": "code",
   "execution_count": null,
   "metadata": {},
   "outputs": [],
   "source": [
    "MATLAB stands for Matrix Laboratory. It is one of the most popular programming languages\n",
    "in the world, and it is used for technical and numerical computing.\n",
    "It can be used in the following operations:\n",
    "    >>Linear Algebra\n",
    "    >> Deep Learning\n",
    "    >> Creating Charts \n",
    "    >> Data Analysis\n",
    "    >> Algorithm Development\n",
    "    >> Creating GUI"
   ]
  },
  {
   "cell_type": "code",
   "execution_count": null,
   "metadata": {},
   "outputs": [],
   "source": [
    "ii. Deep learning applications in healthcare"
   ]
  },
  {
   "cell_type": "code",
   "execution_count": null,
   "metadata": {},
   "outputs": [],
   "source": [
    "Deep learning plays an important role in healthcare. It is used for interpreting medical \n",
    "images like X-ray, MRI scan, CT scan, etc., to perform diagnostics.\n",
    "Deep learning is Extensively used in detecting cancer."
   ]
  },
  {
   "cell_type": "code",
   "execution_count": null,
   "metadata": {},
   "outputs": [],
   "source": [
    "Q11). 1. Generalization and abstraction"
   ]
  },
  {
   "cell_type": "code",
   "execution_count": null,
   "metadata": {},
   "outputs": [],
   "source": [
    "Generalization reduces the complexity of Machine Learning models by replacing multiple \n",
    "entities which perform similar functions with a single construct.\n",
    "\n",
    "While Abstraction reduces the complexity of Machine Learning model by hiding the irrelevant \n",
    "details which are unecessarily used."
   ]
  },
  {
   "cell_type": "code",
   "execution_count": null,
   "metadata": {},
   "outputs": [],
   "source": [
    "2. Learning that is guided and unsupervised"
   ]
  },
  {
   "cell_type": "code",
   "execution_count": null,
   "metadata": {},
   "outputs": [],
   "source": [
    "Guided Learning\n",
    "It is a type of machine learning in which we use labelled data for our model training,\n",
    "labelled data means it contains dependent and independent variables both. \n",
    "Example - Spam or Ham Classification , in this the training data contains sample through \n",
    "which our model gets trained and gets some patterns or it will try to learn whether the\n",
    "amil is spam or not.\n",
    "\n",
    "Unsupervised Learning\n",
    "It is a type of machine learning in which we use unlabelled data for our model training,\n",
    "unlabelled data means it contains only independent variables not dependent variable.\n",
    "Example - Customer segmentation in this the organization does not have the output variable \n",
    "in the training data means it try to learn in such a way that it should predict the result \n",
    "without using the dependent variable in the training data and can recommend various things to \n",
    "customer so that organization can increase their sales."
   ]
  },
  {
   "cell_type": "code",
   "execution_count": null,
   "metadata": {},
   "outputs": [],
   "source": [
    "3. Regression and classification"
   ]
  },
  {
   "cell_type": "code",
   "execution_count": null,
   "metadata": {},
   "outputs": [],
   "source": [
    "Classification \n",
    "It is a technique in which the machine learning models try to predict the output that belongs\n",
    "to some particular category. Example Classifying  a mail is spam or ham , it will rain or not,\n",
    "which drug is required to patient and many more examples.\n",
    "\n",
    "Regression \n",
    "It is a technique in  which the machine learning models to predict the output which is an \n",
    "exact value not the category. All the values in this is almost continuous values means a \n",
    "differnce in values. Examples - Flight Fare prediction, House price prediction."
   ]
  }
 ],
 "metadata": {
  "kernelspec": {
   "display_name": "Python 3",
   "language": "python",
   "name": "python3"
  },
  "language_info": {
   "codemirror_mode": {
    "name": "ipython",
    "version": 3
   },
   "file_extension": ".py",
   "mimetype": "text/x-python",
   "name": "python",
   "nbconvert_exporter": "python",
   "pygments_lexer": "ipython3",
   "version": "3.8.5"
  }
 },
 "nbformat": 4,
 "nbformat_minor": 4
}
