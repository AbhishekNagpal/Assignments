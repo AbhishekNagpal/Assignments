{
 "cells": [
  {
   "cell_type": "code",
   "execution_count": null,
   "metadata": {},
   "outputs": [],
   "source": [
    "Q1). Write a Python program to find words which are greater than given length k?"
   ]
  },
  {
   "cell_type": "code",
   "execution_count": 1,
   "metadata": {},
   "outputs": [
    {
     "name": "stdout",
     "output_type": "stream",
     "text": [
      "Hello\n",
      "Name\n",
      "Abhishek\n",
      "Nagpal\n",
      "from\n",
      "Delhi.\n"
     ]
    }
   ],
   "source": [
    "def word_len(k, string):    \n",
    "    word = string.split(\" \")\n",
    "    for x in word:\n",
    "        if len(x)>k:\n",
    "            print(x)\n",
    "\n",
    "\n",
    "string = 'Hello My Name is Abhishek Nagpal and I am from Delhi.'\n",
    "k = 3\n",
    "word_len(k,string)"
   ]
  },
  {
   "cell_type": "code",
   "execution_count": null,
   "metadata": {},
   "outputs": [],
   "source": [
    "Q2). Write a Python program for removing i-th character from a string?"
   ]
  },
  {
   "cell_type": "code",
   "execution_count": 2,
   "metadata": {},
   "outputs": [
    {
     "data": {
      "text/plain": [
       "'Hello y Name is Abhishek Nagpal and I am from Delhi.'"
      ]
     },
     "execution_count": 2,
     "metadata": {},
     "output_type": "execute_result"
    }
   ],
   "source": [
    "def remove_i(string,i):\n",
    "    a = string[:i]\n",
    "    b = string[i+1:]\n",
    "    return a+b\n",
    "\n",
    "string = 'Hello My Name is Abhishek Nagpal and I am from Delhi.'\n",
    "i = 6\n",
    "remove_i(string,i)"
   ]
  },
  {
   "cell_type": "code",
   "execution_count": null,
   "metadata": {},
   "outputs": [],
   "source": [
    "Q3). Write a Python program to split and join a string?"
   ]
  },
  {
   "cell_type": "code",
   "execution_count": 3,
   "metadata": {},
   "outputs": [
    {
     "name": "stdout",
     "output_type": "stream",
     "text": [
      "['My', 'Name', 'is', 'Abhishek', 'Nagpal']\n",
      "My Name is Abhishek Nagpal\n"
     ]
    }
   ],
   "source": [
    "s = 'My Name is Abhishek Nagpal'\n",
    "print(s.split(\" \"))\n",
    "print(\" \".join(s.split()))"
   ]
  },
  {
   "cell_type": "code",
   "execution_count": null,
   "metadata": {},
   "outputs": [],
   "source": [
    "Q4). Write a Python to check if a given string is binary string or not?"
   ]
  },
  {
   "cell_type": "code",
   "execution_count": 4,
   "metadata": {},
   "outputs": [
    {
     "name": "stdout",
     "output_type": "stream",
     "text": [
      "YES\n"
     ]
    }
   ],
   "source": [
    "def check_binary_string(string):\n",
    "    if (string.count('0')+string.count('1') == len(string)):\n",
    "        print(\"YES\")\n",
    "    else:\n",
    "        print(\"NO\")\n",
    "        \n",
    "string = '0011001001'\n",
    "check_binary_string(string)"
   ]
  },
  {
   "cell_type": "code",
   "execution_count": 5,
   "metadata": {},
   "outputs": [
    {
     "name": "stdout",
     "output_type": "stream",
     "text": [
      "NO\n"
     ]
    }
   ],
   "source": [
    "check_binary_string('jendcx012')"
   ]
  },
  {
   "cell_type": "code",
   "execution_count": null,
   "metadata": {},
   "outputs": [],
   "source": [
    "Q5). Write a Python program to find uncommon words from two Strings?"
   ]
  },
  {
   "cell_type": "code",
   "execution_count": 6,
   "metadata": {},
   "outputs": [
    {
     "name": "stdout",
     "output_type": "stream",
     "text": [
      " My Name is lives in Delhi\n"
     ]
    }
   ],
   "source": [
    "def uncommon(s1,s2):\n",
    "    s1 = s1.split()\n",
    "    s2 = s2.split()\n",
    "    s = ''\n",
    "    for i in s1:\n",
    "        if i not in s2:\n",
    "            s = s+\" \"+i\n",
    "    for j in s2:\n",
    "        if j not in s1:\n",
    "            s = s+\" \"+j\n",
    "            \n",
    "    print(s)\n",
    "        \n",
    "s1 = 'My Name is Abhishek'\n",
    "s2 = 'Abhishek lives in Delhi'\n",
    "uncommon(s1,s2)"
   ]
  },
  {
   "cell_type": "code",
   "execution_count": null,
   "metadata": {},
   "outputs": [],
   "source": [
    "Q6). Write a Python to find all duplicate characters in string?"
   ]
  },
  {
   "cell_type": "code",
   "execution_count": 7,
   "metadata": {},
   "outputs": [
    {
     "name": "stdout",
     "output_type": "stream",
     "text": [
      "  a e i s h\n"
     ]
    }
   ],
   "source": [
    "def find_dup_char(string):\n",
    "    x=[]\n",
    "    for i in string:\n",
    "        if i not in x and string.count(i)>1:\n",
    "            x.append(i)\n",
    "    print(\" \".join(x))\n",
    "    \n",
    "string = 'My name is Abhishek Nagpal'\n",
    "find_dup_char(string)"
   ]
  },
  {
   "cell_type": "code",
   "execution_count": null,
   "metadata": {},
   "outputs": [],
   "source": [
    "Q7). Write a Python Program to check if a string contains any special character?"
   ]
  },
  {
   "cell_type": "code",
   "execution_count": 8,
   "metadata": {},
   "outputs": [
    {
     "name": "stdout",
     "output_type": "stream",
     "text": [
      "string has special character\n"
     ]
    }
   ],
   "source": [
    "s=\"My_name i$ Abhishek Nagpal\"\n",
    "s.split()\n",
    "c=0\n",
    "l='[@_!#$%^&*()<>?/\\|}{~:]' \n",
    "for i in range(len(s)):\n",
    "    if s[i] in l:\n",
    "        c+=1   \n",
    " \n",
    "\n",
    "if c:\n",
    "    print(\"string has special character\")\n",
    "else:\n",
    "    print(\"string has no special character\")\n",
    " \n"
   ]
  },
  {
   "cell_type": "code",
   "execution_count": null,
   "metadata": {},
   "outputs": [],
   "source": []
  }
 ],
 "metadata": {
  "kernelspec": {
   "display_name": "Python 3",
   "language": "python",
   "name": "python3"
  },
  "language_info": {
   "codemirror_mode": {
    "name": "ipython",
    "version": 3
   },
   "file_extension": ".py",
   "mimetype": "text/x-python",
   "name": "python",
   "nbconvert_exporter": "python",
   "pygments_lexer": "ipython3",
   "version": "3.8.5"
  }
 },
 "nbformat": 4,
 "nbformat_minor": 4
}
