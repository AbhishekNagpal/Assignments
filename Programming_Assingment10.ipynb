{
 "cells": [
  {
   "cell_type": "code",
   "execution_count": null,
   "metadata": {},
   "outputs": [],
   "source": [
    "Q1) Write a Python program to find sum of elements in list?"
   ]
  },
  {
   "cell_type": "code",
   "execution_count": 1,
   "metadata": {},
   "outputs": [
    {
     "name": "stdout",
     "output_type": "stream",
     "text": [
      "Enter the Number of Elements: 7\n",
      "6\n",
      "5\n",
      "4\n",
      "3\n",
      "2\n",
      "2\n",
      "1\n",
      "Sum of Elements:  23\n"
     ]
    }
   ],
   "source": [
    "def sum_elements(li):\n",
    "    s = 0\n",
    "    for i in range(len(li)):\n",
    "        if type(li[i]) == int:\n",
    "            s += li[i]\n",
    "    return s\n",
    "\n",
    "n = int(input(\"Enter the Number of Elements: \"))\n",
    "li = []\n",
    "for i in range(n):\n",
    "    a = int(input())\n",
    "    li.append(a)\n",
    "print(\"Sum of Elements: \",sum_elements(li))"
   ]
  },
  {
   "cell_type": "code",
   "execution_count": null,
   "metadata": {},
   "outputs": [],
   "source": [
    "Q2) Write a Python program to Multiply all numbers in the list?"
   ]
  },
  {
   "cell_type": "code",
   "execution_count": 2,
   "metadata": {},
   "outputs": [
    {
     "name": "stdout",
     "output_type": "stream",
     "text": [
      "Enter the Number of Elements: 5\n",
      "1\n",
      "2\n",
      "3\n",
      "4\n",
      "5\n",
      "Multiplication of Elements:  120\n"
     ]
    }
   ],
   "source": [
    "def multiply_elements(li):\n",
    "    m = 1\n",
    "    for i in range(len(li)):\n",
    "        if type(i) == int:\n",
    "            m *= li[i]\n",
    "        \n",
    "    return m\n",
    "\n",
    "n = int(input(\"Enter the Number of Elements: \"))\n",
    "li = []\n",
    "for i in range(n):\n",
    "    a = int(input())\n",
    "    li.append(a)\n",
    "print(\"Multiplication of Elements: \",multiply_elements(li))"
   ]
  },
  {
   "cell_type": "code",
   "execution_count": null,
   "metadata": {},
   "outputs": [],
   "source": [
    "Q3) Write a Python program to find smallest number in a list?"
   ]
  },
  {
   "cell_type": "code",
   "execution_count": 3,
   "metadata": {},
   "outputs": [
    {
     "name": "stdout",
     "output_type": "stream",
     "text": [
      "Enter the Number of Elements: 5\n",
      "4\n",
      "67\n",
      "5\n",
      "89\n",
      "11\n",
      "Smallest Number:  4\n"
     ]
    }
   ],
   "source": [
    "def small(li):\n",
    "    mn = li[0]\n",
    "    for i in range(len(li)):\n",
    "        if type(i) == int:\n",
    "            if (mn > li[i]):\n",
    "                mn = li[i]\n",
    "            \n",
    "    return mn\n",
    "\n",
    "n = int(input(\"Enter the Number of Elements: \"))\n",
    "li = []\n",
    "for i in range(n):\n",
    "    a = int(input())\n",
    "    li.append(a)\n",
    "print(\"Smallest Number: \",small(li))"
   ]
  },
  {
   "cell_type": "code",
   "execution_count": null,
   "metadata": {},
   "outputs": [],
   "source": [
    "Q4) Write a Python program to find largest number in a list?"
   ]
  },
  {
   "cell_type": "code",
   "execution_count": 4,
   "metadata": {},
   "outputs": [
    {
     "name": "stdout",
     "output_type": "stream",
     "text": [
      "Enter the Number of Elements: 6\n",
      "45\n",
      "78\n",
      "69\n",
      "76\n",
      "55\n",
      "109\n",
      "Largest Number:  109\n"
     ]
    }
   ],
   "source": [
    "def largest(li):\n",
    "    mx = li[0]\n",
    "    for i in range(len(li)):\n",
    "        if (mx < li[i]):\n",
    "            mx = li[i]\n",
    "            \n",
    "    return mx\n",
    "\n",
    "n = int(input(\"Enter the Number of Elements: \"))\n",
    "li = []\n",
    "for i in range(n):\n",
    "    a = int(input())\n",
    "    li.append(a)\n",
    "print(\"Largest Number: \",largest(li))"
   ]
  },
  {
   "cell_type": "code",
   "execution_count": null,
   "metadata": {},
   "outputs": [],
   "source": [
    "Q5) Write a Python program to find second largest number in a list?"
   ]
  },
  {
   "cell_type": "code",
   "execution_count": 5,
   "metadata": {},
   "outputs": [
    {
     "name": "stdout",
     "output_type": "stream",
     "text": [
      "Enter the Number of Elements: 8\n",
      "23\n",
      "45\n",
      "67\n",
      "89\n",
      "98\n",
      "76\n",
      "45\n",
      "22\n",
      "Second Largest Number:  89\n"
     ]
    }
   ],
   "source": [
    "def second_largest(li):\n",
    "    mx = li[0]\n",
    "    mn = li[0]\n",
    "    for i in range(len(li)):\n",
    "        \n",
    "        if (mx < li[i]):\n",
    "            mx = li[i]\n",
    "        if (mn > li[i]):\n",
    "            mn = li[i]\n",
    "            \n",
    "    mx_2 = mn\n",
    "    for i in range(len(li)):\n",
    "        \n",
    "        if (li[i] > mx_2 and li[i] < mx):\n",
    "            mx_2 = li[i]\n",
    "        \n",
    "    return mx_2\n",
    "n = int(input(\"Enter the Number of Elements: \"))\n",
    "li = []\n",
    "for i in range(n):\n",
    "    a = int(input())\n",
    "    li.append(a)\n",
    "print(\"Second Largest Number: \",second_largest(li))"
   ]
  },
  {
   "cell_type": "code",
   "execution_count": null,
   "metadata": {},
   "outputs": [],
   "source": [
    "Q6) Write a Python program to find N largest elements from a list?"
   ]
  },
  {
   "cell_type": "code",
   "execution_count": 6,
   "metadata": {},
   "outputs": [
    {
     "name": "stdout",
     "output_type": "stream",
     "text": [
      "Enter the Number of Elements: 7\n",
      "Enter the N: 2\n",
      "1\n",
      "2\n",
      "3\n",
      "8\n",
      "3\n",
      "4\n",
      "5\n",
      "List of N Largest Number:  [8, 5]\n"
     ]
    }
   ],
   "source": [
    "def N_largest_elements(li, N):\n",
    "    ans_li = []\n",
    "  \n",
    "    for i in range(0, N): \n",
    "        mx = 0\n",
    "          \n",
    "        for j in range(len(li)):     \n",
    "            if li[j] > mx:\n",
    "                mx = li[j];\n",
    "                  \n",
    "        li.remove(mx);\n",
    "        ans_li.append(mx)\n",
    "    return ans_li\n",
    "        \n",
    "n = int(input(\"Enter the Number of Elements: \"))\n",
    "li = []\n",
    "N = int(input(\"Enter the N: \"))\n",
    "for i in range(n):\n",
    "    a = int(input())\n",
    "    li.append(a)\n",
    "print(\"List of N Largest Number: \",N_largest_elements(li,N))"
   ]
  },
  {
   "cell_type": "code",
   "execution_count": null,
   "metadata": {},
   "outputs": [],
   "source": [
    "Q7) Write a Python program to print even numbers in a list?"
   ]
  },
  {
   "cell_type": "code",
   "execution_count": 7,
   "metadata": {},
   "outputs": [
    {
     "name": "stdout",
     "output_type": "stream",
     "text": [
      "Enter the Number of Elements: 8\n",
      "1\n",
      "2\n",
      "3\n",
      "4\n",
      "5\n",
      "6\n",
      "7\n",
      "8\n",
      "2 4 6 8 "
     ]
    }
   ],
   "source": [
    "def print_even(li):\n",
    "    for i in range(len(li)):\n",
    "        if (li[i] & 1) == 0:\n",
    "            print(li[i],end = \" \")\n",
    "\n",
    "n = int(input(\"Enter the Number of Elements: \"))\n",
    "li = []\n",
    "for i in range(n):\n",
    "    a = int(input())\n",
    "    li.append(a)\n",
    "print_even(li)"
   ]
  },
  {
   "cell_type": "code",
   "execution_count": null,
   "metadata": {},
   "outputs": [],
   "source": [
    "Q8) Write a Python program to print odd numbers in a List?"
   ]
  },
  {
   "cell_type": "code",
   "execution_count": 8,
   "metadata": {},
   "outputs": [
    {
     "name": "stdout",
     "output_type": "stream",
     "text": [
      "Enter the Number of Elements: 8\n",
      "1\n",
      "2\n",
      "3\n",
      "4\n",
      "5\n",
      "6\n",
      "7\n",
      "8\n",
      "1 3 5 7 "
     ]
    }
   ],
   "source": [
    "def print_odd(li):\n",
    "    for i in range(len(li)):\n",
    "        if (li[i] & 1) == 1:\n",
    "            print(li[i],end = \" \")\n",
    "\n",
    "n = int(input(\"Enter the Number of Elements: \"))\n",
    "li = []\n",
    "for i in range(n):\n",
    "    a = int(input())\n",
    "    li.append(a)\n",
    "print_odd(li)"
   ]
  },
  {
   "cell_type": "code",
   "execution_count": null,
   "metadata": {},
   "outputs": [],
   "source": [
    "Q9) Write a Python program to Remove empty List from List?"
   ]
  },
  {
   "cell_type": "code",
   "execution_count": 9,
   "metadata": {},
   "outputs": [
    {
     "name": "stdout",
     "output_type": "stream",
     "text": [
      "[1, 2, [1, 2, 3], [5, 6, 7], [9, 10], 12, 13]\n"
     ]
    }
   ],
   "source": [
    "def remove_empty(li):\n",
    "    l = []\n",
    "    for i in range(len(li)):\n",
    "        if  li[i] != []:\n",
    "            l.append(li[i])\n",
    "            \n",
    "    return l\n",
    "li = [1,2,[1,2,3],[],[5,6,7],[9,10],12,13,[]]\n",
    "print(remove_empty(li))"
   ]
  },
  {
   "cell_type": "code",
   "execution_count": null,
   "metadata": {},
   "outputs": [],
   "source": [
    "Q10) Write a Python program to Cloning or Copying a list?"
   ]
  },
  {
   "cell_type": "code",
   "execution_count": 10,
   "metadata": {},
   "outputs": [
    {
     "name": "stdout",
     "output_type": "stream",
     "text": [
      "Original List  [4, 8, 2, 10, 15, 18]\n",
      "List After Copying  [4, 8, 2, 10, 15, 18]\n"
     ]
    }
   ],
   "source": [
    "def copying(li):\n",
    "    li_copy =[]\n",
    "    li_copy = li.copy()\n",
    "    return li_copy\n",
    "   \n",
    "\n",
    "li = [4, 8, 2, 10, 15, 18]\n",
    "li1 = copying(li)\n",
    "print(\"Original List \", li)\n",
    "print(\"List After Copying \", li1)"
   ]
  },
  {
   "cell_type": "code",
   "execution_count": null,
   "metadata": {},
   "outputs": [],
   "source": [
    "Q11) Write a Python program to Count occurrences of an element in a list?"
   ]
  },
  {
   "cell_type": "code",
   "execution_count": 11,
   "metadata": {},
   "outputs": [
    {
     "name": "stdout",
     "output_type": "stream",
     "text": [
      "Enter the Number of Elements: 6\n",
      "Enter X: 2\n",
      "1\n",
      "2\n",
      "2\n",
      "3\n",
      "4\n",
      "2\n",
      "ANS:  3\n"
     ]
    }
   ],
   "source": [
    "def count(li,x):\n",
    "    c = 0\n",
    "    for i in range(len(li)):\n",
    "        if (li[i] == x):\n",
    "            c += 1\n",
    "            \n",
    "    return c\n",
    "n = int(input(\"Enter the Number of Elements: \"))\n",
    "li = []\n",
    "x = int(input(\"Enter X: \"))\n",
    "for i in range(n):\n",
    "    a = int(input())\n",
    "    li.append(a)\n",
    "print(\"ANS: \",count(li,x))"
   ]
  },
  {
   "cell_type": "code",
   "execution_count": null,
   "metadata": {},
   "outputs": [],
   "source": []
  }
 ],
 "metadata": {
  "kernelspec": {
   "display_name": "Python 3",
   "language": "python",
   "name": "python3"
  },
  "language_info": {
   "codemirror_mode": {
    "name": "ipython",
    "version": 3
   },
   "file_extension": ".py",
   "mimetype": "text/x-python",
   "name": "python",
   "nbconvert_exporter": "python",
   "pygments_lexer": "ipython3",
   "version": "3.8.5"
  }
 },
 "nbformat": 4,
 "nbformat_minor": 4
}
