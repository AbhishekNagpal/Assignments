{
 "cells": [
  {
   "cell_type": "code",
   "execution_count": null,
   "metadata": {},
   "outputs": [],
   "source": [
    "Q1) Write a Python program to convert kilometers to miles?"
   ]
  },
  {
   "cell_type": "code",
   "execution_count": 1,
   "metadata": {},
   "outputs": [
    {
     "name": "stdout",
     "output_type": "stream",
     "text": [
      "Enter the distance in Km: 4\n",
      "Distance in Miles:  2.484\n"
     ]
    }
   ],
   "source": [
    "def convert(km):\n",
    "    miles = km * 0.621\n",
    "    return miles\n",
    "\n",
    "km = float(input(\"Enter the distance in Km: \"))\n",
    "print(\"Distance in Miles: \",convert(km))"
   ]
  },
  {
   "cell_type": "code",
   "execution_count": null,
   "metadata": {},
   "outputs": [],
   "source": [
    "Q2) Write a Python program to convert Celsius to Fahrenheit?"
   ]
  },
  {
   "cell_type": "code",
   "execution_count": 2,
   "metadata": {},
   "outputs": [
    {
     "name": "stdout",
     "output_type": "stream",
     "text": [
      "Enter the temperature in celsius: 10\n",
      "Temperature in Fahrenheit:  50.0\n"
     ]
    }
   ],
   "source": [
    "def func_1(cel):\n",
    "    fah = (9/5)*cel + 32\n",
    "    return fah\n",
    "cel = float(input(\"Enter the temperature in celsius: \"))\n",
    "print(\"Temperature in Fahrenheit: \",func_1(cel))"
   ]
  },
  {
   "cell_type": "code",
   "execution_count": null,
   "metadata": {},
   "outputs": [],
   "source": [
    "Q3) Write a Python program to display calendar?"
   ]
  },
  {
   "cell_type": "code",
   "execution_count": 3,
   "metadata": {},
   "outputs": [
    {
     "name": "stdout",
     "output_type": "stream",
     "text": [
      "Enter the month: 11\n",
      "Enter the year: 2021\n",
      "   November 2021\n",
      "Mo Tu We Th Fr Sa Su\n",
      " 1  2  3  4  5  6  7\n",
      " 8  9 10 11 12 13 14\n",
      "15 16 17 18 19 20 21\n",
      "22 23 24 25 26 27 28\n",
      "29 30\n",
      "\n"
     ]
    }
   ],
   "source": [
    "import calendar\n",
    "m = int(input(\"Enter the month: \"))\n",
    "y = int(input(\"Enter the year: \"))\n",
    "print(calendar.month(y,m))"
   ]
  },
  {
   "cell_type": "code",
   "execution_count": null,
   "metadata": {},
   "outputs": [],
   "source": [
    "Q4) Write a Python program to solve quadratic equation?"
   ]
  },
  {
   "cell_type": "code",
   "execution_count": 4,
   "metadata": {},
   "outputs": [
    {
     "name": "stdout",
     "output_type": "stream",
     "text": [
      "Enter a: 1\n",
      "Enter b: 2\n",
      "Enter c: 3\n",
      "Roots of the equation:  ((-1-1.4142135623730951j), (-1+1.4142135623730951j))\n"
     ]
    }
   ],
   "source": [
    "import cmath  \n",
    "def func_2(a,b,c):\n",
    "    d = (b**2) - (4*a*c)\n",
    "    sol1 = (-b-cmath.sqrt(d))/(2*a)  \n",
    "    sol2 = (-b+cmath.sqrt(d))/(2*a) \n",
    "    return sol1,sol2\n",
    "    \n",
    "a = float(input('Enter a: '))  \n",
    "b = float(input('Enter b: '))  \n",
    "c = float(input('Enter c: '))  \n",
    "print(\"Roots of the equation: \",func_2(a,b,c))"
   ]
  },
  {
   "cell_type": "code",
   "execution_count": null,
   "metadata": {},
   "outputs": [],
   "source": [
    "Q5) Write a Python program to swap two variables without temp variable?"
   ]
  },
  {
   "cell_type": "code",
   "execution_count": 5,
   "metadata": {},
   "outputs": [
    {
     "name": "stdout",
     "output_type": "stream",
     "text": [
      "Enter the first Number: 4\n",
      "Enter the second number: 7\n",
      "Swapped Numbers:  (7, 4)\n"
     ]
    }
   ],
   "source": [
    "def swap(a,b):\n",
    "    a = a ^ b\n",
    "    b = a ^ b\n",
    "    a = a ^ b\n",
    "    return a,b\n",
    "a = int(input(\"Enter the first Number: \"))\n",
    "b = int(input(\"Enter the second number: \"))\n",
    "print(\"Swapped Numbers: \",swap(a,b))"
   ]
  }
 ],
 "metadata": {
  "kernelspec": {
   "display_name": "Python 3",
   "language": "python",
   "name": "python3"
  },
  "language_info": {
   "codemirror_mode": {
    "name": "ipython",
    "version": 3
   },
   "file_extension": ".py",
   "mimetype": "text/x-python",
   "name": "python",
   "nbconvert_exporter": "python",
   "pygments_lexer": "ipython3",
   "version": "3.8.5"
  }
 },
 "nbformat": 4,
 "nbformat_minor": 4
}
