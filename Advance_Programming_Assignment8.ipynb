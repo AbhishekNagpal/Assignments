{
 "cells": [
  {
   "cell_type": "code",
   "execution_count": null,
   "metadata": {},
   "outputs": [],
   "source": [
    "Q1). Given a sentence as txt, return True if any two adjacent words have this\n",
    "property: One word ends with a vowel, while the word immediately after\n",
    "begins with a vowel (a e i o u)."
   ]
  },
  {
   "cell_type": "code",
   "execution_count": 31,
   "metadata": {},
   "outputs": [
    {
     "name": "stdout",
     "output_type": "stream",
     "text": [
      "True\n",
      "True\n",
      "False\n"
     ]
    }
   ],
   "source": [
    "def vowel_links(s):\n",
    "    ans_s = ''\n",
    "    for i in range(len(s)):\n",
    "        if s[i] != ' ':\n",
    "            ans_s = ans_s + s[i]\n",
    "    for j in range(len(ans_s)-1):\n",
    "        if ans_s[j]  in ('aeiou' or 'AEIOU'):\n",
    "            if  ans_s[j+1] in ('aeiou' or 'AEIOU'):\n",
    "                return True \n",
    "    return False\n",
    "print(vowel_links(\"a very large appliance\"))\n",
    "print(vowel_links(\"go to edabit\"))\n",
    "print(vowel_links(\"an open fire\"))"
   ]
  },
  {
   "cell_type": "code",
   "execution_count": null,
   "metadata": {},
   "outputs": [],
   "source": [
    "Q2). You are given three inputs: a string, one letter, and a second letter.\n",
    "Write a function that returns True if every instance of the first letter occurs\n",
    "before every instance of the second letter."
   ]
  },
  {
   "cell_type": "code",
   "execution_count": 37,
   "metadata": {},
   "outputs": [
    {
     "name": "stdout",
     "output_type": "stream",
     "text": [
      "True\n",
      "True\n",
      "False\n",
      "False\n"
     ]
    }
   ],
   "source": [
    "def first_before_second(s,first_letter,second_letter):\n",
    "    if s.rfind(first_letter) < s.find(second_letter):\n",
    "        return True\n",
    "    else:\n",
    "        return False\n",
    "    \n",
    "print(first_before_second(\"a rabbit jumps joyfully\",\"a\",\"j\"))\n",
    "print(first_before_second(\"knaves knew about waterfalls\", \"k\", \"w\"))\n",
    "print(first_before_second(\"happy birthday\", \"a\", \"y\"))\n",
    "print(first_before_second(\"precarious kangaroos\", \"k\", \"a\"))"
   ]
  },
  {
   "cell_type": "code",
   "execution_count": null,
   "metadata": {},
   "outputs": [],
   "source": [
    "Q3). Create a function that returns the characters from a list or string r on odd or\n",
    "even positions, depending on the specifier s. The specifier will be &quot;odd&quot; for\n",
    "items on odd positions (1, 3, 5, ...) and &quot;even&quot; for items on even positions (2,\n",
    "4, 6, ...)."
   ]
  },
  {
   "cell_type": "code",
   "execution_count": 38,
   "metadata": {},
   "outputs": [
    {
     "name": "stdout",
     "output_type": "stream",
     "text": [
      "[4, 8]\n",
      "['E', 'A', 'I']\n",
      "['A', 'B', 'T', 'A', 'I', 'Y']\n"
     ]
    }
   ],
   "source": [
    "def char_at_pos(l,s):\n",
    "    if s == 'even':\n",
    "        return [l[i] for i in range(len(l)) if (i+1) % 2 == 0]\n",
    "    elif s == 'odd':\n",
    "        return [l[i] for i in range(len(l)) if (i+1) % 2 != 0]\n",
    "\n",
    "print(char_at_pos([2, 4, 6, 8, 10], \"even\"))   \n",
    "print(char_at_pos(\"EDABIT\", \"odd\"))\n",
    "print(char_at_pos([\"A\", \"R\", \"B\", \"I\", \"T\", \"R\", \"A\", \"R\", \"I\", \"L\", \"Y\"], \"odd\"))"
   ]
  },
  {
   "cell_type": "code",
   "execution_count": null,
   "metadata": {},
   "outputs": [],
   "source": [
    "Q4). Write a function that returns the greatest common divisor of all list\n",
    "elements. If the greatest common divisor is 1, return 1."
   ]
  },
  {
   "cell_type": "code",
   "execution_count": 39,
   "metadata": {},
   "outputs": [
    {
     "name": "stdout",
     "output_type": "stream",
     "text": [
      "10\n",
      "1\n",
      "64\n"
     ]
    }
   ],
   "source": [
    "import math \n",
    "\n",
    "def GCD(numbers):\n",
    "    res = numbers[0]\n",
    "    for i in range(1,len(numbers)):\n",
    "        res = math.gcd(numbers[i],res)\n",
    "    return res\n",
    "\n",
    "print(GCD([10, 20, 40]))\n",
    "print(GCD([1, 2, 3, 100]))\n",
    "print(GCD([1024, 192, 2048, 512]))"
   ]
  },
  {
   "cell_type": "code",
   "execution_count": null,
   "metadata": {},
   "outputs": [],
   "source": [
    "Q5). A number/string is a palindrome if the digits/characters are the same when\n",
    "read both forward and backward. Examples include &quot;racecar&quot; and 12321.\n",
    "Given a positive number n, check if n or the binary representation of n is\n",
    "palindromic. Return the following:"
   ]
  },
  {
   "cell_type": "code",
   "execution_count": null,
   "metadata": {},
   "outputs": [],
   "source": [
    "def palindrome_type(n):\n",
    "    type1 = '' \n",
    "    if bin(n).lstrip('0b') == bin(n).lstrip('0b')[::-1]:\n",
    "        type1 += \"Binary only\"\n",
    "    if str(n) == str(n)[::-1]:\n",
    "        type1 += \"Decimal only\"\n",
    "    \n",
    "    if type1 == \"Binary onlyDecimal only\":\n",
    "        return  \"Decimal and binary.\"\n",
    "    elif type1 == '':\n",
    "        return \"Neither!\"\n",
    "    else:\n",
    "        return type1\n",
    "    \n",
    "print(palindrome_type(1306031))\n",
    "print(palindrome_type(427787))\n",
    "print(palindrome_type(313))\n",
    "print(palindrome_type(934))"
   ]
  }
 ],
 "metadata": {
  "kernelspec": {
   "display_name": "Python 3",
   "language": "python",
   "name": "python3"
  },
  "language_info": {
   "codemirror_mode": {
    "name": "ipython",
    "version": 3
   },
   "file_extension": ".py",
   "mimetype": "text/x-python",
   "name": "python",
   "nbconvert_exporter": "python",
   "pygments_lexer": "ipython3",
   "version": "3.8.5"
  }
 },
 "nbformat": 4,
 "nbformat_minor": 4
}
